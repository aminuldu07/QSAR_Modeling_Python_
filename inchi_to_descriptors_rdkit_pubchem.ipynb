{
 "cells": [
  {
   "cell_type": "code",
   "execution_count": 3,
   "id": "2693cb57",
   "metadata": {},
   "outputs": [],
   "source": [
    "# code that takes the InChIKeys from the column \"InChIKey\" in the input CSV file, retrieves the\n",
    "# corresponding InChI strings from PubChem, calculates the RDKit descriptors for each molecule, and saves\n",
    "# the descriptors to a new CSV file:\n",
    "\n",
    "import pubchempy as pcp\n",
    "from rdkit import Chem\n",
    "from rdkit.ML.Descriptors import MoleculeDescriptors\n",
    "from rdkit.Chem import Descriptors\n",
    "import pandas as pd\n"
   ]
  },
  {
   "cell_type": "code",
   "execution_count": 4,
   "id": "0e581d23",
   "metadata": {},
   "outputs": [],
   "source": [
    "# Read the input CSV file with InChIKeys\n",
    "path = 'C:/Users/mdaminulisla.prodhan/All_My_Miscellenous/pubchempy/INCHIKEY_to_inchi_rdeleted_543r.csv'\n",
    "#pd.read_csv('INCHIKEY_to_inchi_rdeleted_543r.csv')\n",
    "df = pd.read_csv(path)"
   ]
  },
  {
   "cell_type": "code",
   "execution_count": 6,
   "id": "ed9f8bdf",
   "metadata": {},
   "outputs": [
    {
     "name": "stderr",
     "output_type": "stream",
     "text": [
      "[18:43:18] WARNING:  Problems/mismatches: Mobile-H( Proton balance: Does not match)\n",
      "\n"
     ]
    }
   ],
   "source": [
    "# Create an empty list to store the calculated descriptors\n",
    "descriptor_list = []\n",
    "\n",
    "# Iterate over each row in the DataFrame\n",
    "for index, row in df.iterrows():\n",
    "    inchi_key = row['INCHIKEY']\n",
    "\n",
    "    # Get the corresponding compound from PubChem\n",
    "    compound = pcp.Compound.from_cid(pcp.get_cids(inchi_key, 'inchikey')[0])\n",
    "\n",
    "    # Get the InChI from the compound\n",
    "    inchi = compound.inchi\n",
    "\n",
    "    # Convert the InChI string to a Mol object\n",
    "    molecule = Chem.MolFromInchi(inchi)\n",
    "\n",
    "    # Get the list of all available descriptors in RDKit\n",
    "    descriptors_list = [x[0] for x in Descriptors._descList]\n",
    "\n",
    "    # Create a molecule descriptor calculator\n",
    "    calculator = MoleculeDescriptors.MolecularDescriptorCalculator(descriptors_list)\n",
    "\n",
    "    # Calculate the descriptors for the molecule\n",
    "    descriptors = calculator.CalcDescriptors(molecule)\n",
    "\n",
    "    # Append the descriptors to the list\n",
    "    descriptor_list.append(descriptors)\n",
    "\n",
    "# Create a DataFrame for the descriptors\n",
    "df_descriptors = pd.DataFrame(descriptor_list, columns=descriptors_list)\n",
    "\n",
    "# Concatenate the original DataFrame and the descriptors DataFrame\n",
    "df_final = pd.concat([df, df_descriptors], axis=1)\n",
    "\n",
    "\n",
    "# Save the final DataFrame with descriptors to a new CSV file\n",
    "df_final.to_csv('C:/Users/mdaminulisla.prodhan/All_My_Miscellenous/pubchempy/inchi_to_descriptors_rdkit_pubchempy_descriptors.csv', index=False)\n",
    "\n"
   ]
  },
  {
   "cell_type": "code",
   "execution_count": null,
   "id": "528d4ca9",
   "metadata": {},
   "outputs": [],
   "source": []
  }
 ],
 "metadata": {
  "kernelspec": {
   "display_name": "Python 3 (ipykernel)",
   "language": "python",
   "name": "python3"
  },
  "language_info": {
   "codemirror_mode": {
    "name": "ipython",
    "version": 3
   },
   "file_extension": ".py",
   "mimetype": "text/x-python",
   "name": "python",
   "nbconvert_exporter": "python",
   "pygments_lexer": "ipython3",
   "version": "3.11.0"
  }
 },
 "nbformat": 4,
 "nbformat_minor": 5
}

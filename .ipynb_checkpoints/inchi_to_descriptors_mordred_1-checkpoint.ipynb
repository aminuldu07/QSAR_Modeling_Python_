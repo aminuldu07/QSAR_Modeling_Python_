{
 "cells": [
  {
   "cell_type": "code",
   "execution_count": 2,
   "id": "e71499e7",
   "metadata": {},
   "outputs": [],
   "source": [
    "#### # Convert the descriptors dictionary to a string @@ \n",
    "\n",
    "#It seems that the df_final DataFrame contains columns with dictionaries as values, \n",
    "# which cannot be directly saved to a CSV file using the to_csv() method. To overcome this,\n",
    "# you can convert the dictionaries to strings before saving the DataFrame to a CSV file. \n",
    "\n",
    "import pandas as pd\n",
    "from rdkit import Chem\n",
    "from mordred import Calculator, descriptors\n",
    "import json"
   ]
  },
  {
   "cell_type": "code",
   "execution_count": 5,
   "id": "674da77b",
   "metadata": {},
   "outputs": [],
   "source": [
    "# Read the input CSV file\n",
    "path = 'C:/Users/mdaminulisla.prodhan/All_My_Miscellenous/pubchempy/INCHIKEY_to_inchi_rdeleted_543r.csv'\n",
    "df = pd.read_csv(path)\n",
    "#df"
   ]
  },
  {
   "cell_type": "code",
   "execution_count": null,
   "id": "f78bae43",
   "metadata": {},
   "outputs": [],
   "source": [
    "# Extract the necessary columns for processing\n",
    "inchi_column = df['InChI']\n",
    "other_columns = df.drop(columns=['InChI'])\n",
    "\n",
    "# Create an empty list to store the calculated descriptors\n",
    "descriptor_list = []\n",
    "\n",
    "# Initialize Mordred descriptor calculator\n",
    "calc = Calculator(descriptors, ignore_3D=True)\n",
    "\n",
    "# Iterate over each InChI string\n",
    "for inchi in inchi_column:\n",
    "    # Convert the InChI string to an RDKit Mol object\n",
    "    mol = Chem.MolFromInchi(inchi)\n",
    "\n",
    "    # Check if the conversion was successful\n",
    "    if mol is not None:\n",
    "        # Calculate descriptors for the molecule using Mordred\n",
    "        descriptors = calc(mol)\n",
    "\n",
    "        # Convert the descriptors dictionary to a string\n",
    "        descriptors_str = json.dumps(descriptors.asdict())\n",
    "\n",
    "        # Append the descriptors string to the list\n",
    "        descriptor_list.append(descriptors_str)\n",
    "    else:\n",
    "        # If conversion failed, append an empty string to the descriptor list\n",
    "        descriptor_list.append('')\n",
    "\n",
    "# Create a DataFrame for the descriptors\n",
    "df_descriptors = pd.DataFrame(descriptor_list, columns=['Descriptors'])\n",
    "\n",
    "# Concatenate the original DataFrame (excluding the InChI column) and the descriptors DataFrame\n",
    "df_final = pd.concat([other_columns, df_descriptors], axis=1)\n",
    "\n",
    "# Save the final DataFrame with descriptors to a new CSV file\n",
    "df_final.to_csv('C:/Users/mdaminulisla.prodhan/All_My_Miscellenous/pubchempy/inchi_to_descriptors_mordred_1.csv', index=False)\n"
   ]
  }
 ],
 "metadata": {
  "kernelspec": {
   "display_name": "Python 3 (ipykernel)",
   "language": "python",
   "name": "python3"
  },
  "language_info": {
   "codemirror_mode": {
    "name": "ipython",
    "version": 3
   },
   "file_extension": ".py",
   "mimetype": "text/x-python",
   "name": "python",
   "nbconvert_exporter": "python",
   "pygments_lexer": "ipython3",
   "version": "3.11.0"
  }
 },
 "nbformat": 4,
 "nbformat_minor": 5
}

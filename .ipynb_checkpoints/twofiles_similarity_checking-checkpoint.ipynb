{
 "cells": [
  {
   "cell_type": "code",
   "execution_count": null,
   "id": "984fa366",
   "metadata": {},
   "outputs": [],
   "source": [
    "# CHECK WHETHER TWO CSV  FLIES ARE Identical \n",
    "\n",
    "import pandas as pd\n",
    "\n",
    "def compare_csv_files(file1, file2):\n",
    "    df1 = pd.read_csv(file1)\n",
    "    df2 = pd.read_csv(file2)\n",
    "\n",
    "    # Making sure both DataFrames are sorted in the same way\n",
    "    df1 = df1.sort_values(by=df1.columns.tolist()).reset_index(drop=True)\n",
    "    df2 = df2.sort_values(by=df2.columns.tolist()).reset_index(drop=True)\n",
    "\n",
    "    # Checking if the two DataFrames are identical\n",
    "    are_identical = df1.equals(df2)\n",
    "    \n",
    "    return are_identical\n",
    "\n"
   ]
  },
  {
   "cell_type": "code",
   "execution_count": null,
   "id": "4cce3306",
   "metadata": {},
   "outputs": [],
   "source": [
    "is_identical = compare_csv_files(\"outputall.csv\", \"outputfunc.csv\")\n",
    "if is_identical:\n",
    "    print(\"The files are identical.\")\n",
    "else:\n",
    "    print(\"The files are different.\")"
   ]
  }
 ],
 "metadata": {
  "kernelspec": {
   "display_name": "Python 3 (ipykernel)",
   "language": "python",
   "name": "python3"
  },
  "language_info": {
   "codemirror_mode": {
    "name": "ipython",
    "version": 3
   },
   "file_extension": ".py",
   "mimetype": "text/x-python",
   "name": "python",
   "nbconvert_exporter": "python",
   "pygments_lexer": "ipython3",
   "version": "3.11.0"
  }
 },
 "nbformat": 4,
 "nbformat_minor": 5
}

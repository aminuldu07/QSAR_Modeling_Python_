{
 "cells": [
  {
   "cell_type": "markdown",
   "metadata": {},
   "source": [
    "# Database Queries\n",
    "\n",
    "\n",
    "This is the first notebook in a series of Jupyter Notebooks linked to the project titled \"__Developing Mechanism-Based Models for Complex Toxicology Study Endpoints Using Standardized Electronic Submission Data__\".  They should be somewhat ordinal, i.e., should be run in order as each Notebook could depend on results from a previous notebook.  \n",
    "\n",
    "This notebook requires a dependency script, `send.py`, which contains an object that is a live instance to the database and can be queried, etc.  This script requires two variables to be configured, `db_dir` and `send_db_file`.  `db_dir` should point to the directory that contains the SQLlite database and `send_db_file` should be the SQLite database file itself. \n",
    "\n",
    "This notebook simply is simply just to get database queries for the SEND manuscript.\n"
   ]
  },
  {
   "cell_type": "code",
   "execution_count": 38,
   "metadata": {},
   "outputs": [],
   "source": [
    "from send import send_db\n",
    "import pandas as pd\n",
    "\n",
    "ts = send_db.generic_query('SELECT * FROM TS')"
   ]
  },
  {
   "cell_type": "code",
   "execution_count": 39,
   "metadata": {},
   "outputs": [
    {
     "name": "stdout",
     "output_type": "stream",
     "text": [
      "There are 101 TSPARMCDs\n",
      "AGETXT\n",
      "AGEU\n",
      "DOSDUR\n",
      "EXPENDTC\n",
      "EXPSTDTC\n",
      "GLPTYP\n",
      "HOUSEGRP\n",
      "RECSAC\n",
      "ROUTE\n",
      "SDESIGN\n",
      "SNDCTVER\n",
      "SNDIGVER\n",
      "SPECIES\n",
      "SPLRLOC\n",
      "SPLRNAM\n",
      "SPREFID\n",
      "SSPONSOR\n",
      "SSTYP\n",
      "STCAT\n",
      "STDIR\n",
      "STITLE\n",
      "STRAIN\n",
      "STSTDTC\n",
      "TFCNTRY\n",
      "TRMSAC\n",
      "TRT\n",
      "TRTCAS\n",
      "TRTV\n",
      "TSTFLOC\n",
      "TSTFNAM\n",
      "ASOCSTDY\n",
      "BEDCHNG\n",
      "BEDDING\n",
      "DIET\n",
      "DOSENDTC\n",
      "DOSSTDTC\n",
      "ENVTEMP\n",
      "ENVTEMPU\n",
      "FEEDREG\n",
      "GLPFL\n",
      "HOUSETYP\n",
      "HUMIDT\n",
      "HUMIDTU\n",
      "IACUC\n",
      "IDMETH\n",
      "LIGHT\n",
      "MTHTRM\n",
      "PCLASS\n",
      "SEXPOP\n",
      "SRANDOM\n",
      "STENDTC\n",
      "TRTUNII\n",
      "WATER\n",
      "WTRDLVRY\n",
      "STMON\n",
      "PINV\n",
      "TRTDOSU\n",
      "SLENGTH\n",
      "PLANFSUB\n",
      "PLANMSUB\n",
      "SPLANSUB\n",
      "TSCNTRY\n",
      "TSLOC\n",
      "TSNAM\n",
      "TKDESC\n",
      "AGE\n",
      "PPL\n",
      "PDOSFRQ\n",
      "CNTRBSC\n",
      "STRPSTAT\n",
      "SBSTRAIN\n",
      "TOTANPCH\n",
      "ALTSTDID\n",
      "INTSAC\n",
      "PPTCNAM\n",
      "PPTEGID\n",
      "PPTEGSYM\n",
      "PPTMDA\n",
      "STOBJ\n",
      "STRPNUM\n",
      "TANUM\n",
      "AMGPNUM\n",
      "GPSNUM\n",
      "THAGTMOD\n",
      "QATYPE\n",
      "PROTNUM\n",
      "STRPDT\n",
      "PREPPER\n",
      "PDFORM\n",
      "SPFIND\n",
      "LOT\n",
      "TESTID\n",
      "TCNTRL\n",
      "PKANIND\n",
      "DEFVER\n",
      "DOSFRQ\n",
      "PCLAS\n",
      "PRJCTID\n",
      "CLASS\n",
      "TELMIND\n",
      "WATRDLVRY\n"
     ]
    }
   ],
   "source": [
    "print(f\"There are {ts.TSPARMCD.nunique()} TSPARMCDs\")\n",
    "print('\\n'.join(ts.TSPARMCD.unique()))"
   ]
  },
  {
   "cell_type": "code",
   "execution_count": null,
   "metadata": {},
   "outputs": [],
   "source": []
  },
  {
   "cell_type": "code",
   "execution_count": 40,
   "metadata": {},
   "outputs": [
    {
     "data": {
      "text/html": [
       "<div>\n",
       "<style scoped>\n",
       "    .dataframe tbody tr th:only-of-type {\n",
       "        vertical-align: middle;\n",
       "    }\n",
       "\n",
       "    .dataframe tbody tr th {\n",
       "        vertical-align: top;\n",
       "    }\n",
       "\n",
       "    .dataframe thead th {\n",
       "        text-align: right;\n",
       "    }\n",
       "</style>\n",
       "<table border=\"1\" class=\"dataframe\">\n",
       "  <thead>\n",
       "    <tr style=\"text-align: right;\">\n",
       "      <th></th>\n",
       "      <th>STUDYID</th>\n",
       "      <th>ID</th>\n",
       "      <th>USUBJID</th>\n",
       "      <th>SPECIES</th>\n",
       "      <th>STRAIN</th>\n",
       "      <th>SEX</th>\n",
       "    </tr>\n",
       "  </thead>\n",
       "  <tbody>\n",
       "    <tr>\n",
       "      <th>0</th>\n",
       "      <td>00086621</td>\n",
       "      <td>1</td>\n",
       "      <td>00086621-1001</td>\n",
       "      <td>DOG</td>\n",
       "      <td>BEAGLE</td>\n",
       "      <td>M</td>\n",
       "    </tr>\n",
       "    <tr>\n",
       "      <th>1</th>\n",
       "      <td>00086621</td>\n",
       "      <td>1</td>\n",
       "      <td>00086621-1002</td>\n",
       "      <td>DOG</td>\n",
       "      <td>BEAGLE</td>\n",
       "      <td>M</td>\n",
       "    </tr>\n",
       "    <tr>\n",
       "      <th>2</th>\n",
       "      <td>00086621</td>\n",
       "      <td>1</td>\n",
       "      <td>00086621-1003</td>\n",
       "      <td>DOG</td>\n",
       "      <td>BEAGLE</td>\n",
       "      <td>M</td>\n",
       "    </tr>\n",
       "    <tr>\n",
       "      <th>3</th>\n",
       "      <td>00086621</td>\n",
       "      <td>1</td>\n",
       "      <td>00086621-2001</td>\n",
       "      <td>DOG</td>\n",
       "      <td>BEAGLE</td>\n",
       "      <td>M</td>\n",
       "    </tr>\n",
       "    <tr>\n",
       "      <th>4</th>\n",
       "      <td>00086621</td>\n",
       "      <td>1</td>\n",
       "      <td>00086621-2002</td>\n",
       "      <td>DOG</td>\n",
       "      <td>BEAGLE</td>\n",
       "      <td>M</td>\n",
       "    </tr>\n",
       "  </tbody>\n",
       "</table>\n",
       "</div>"
      ],
      "text/plain": [
       "    STUDYID  ID        USUBJID SPECIES  STRAIN SEX\n",
       "0  00086621   1  00086621-1001     DOG  BEAGLE   M\n",
       "1  00086621   1  00086621-1002     DOG  BEAGLE   M\n",
       "2  00086621   1  00086621-1003     DOG  BEAGLE   M\n",
       "3  00086621   1  00086621-2001     DOG  BEAGLE   M\n",
       "4  00086621   1  00086621-2002     DOG  BEAGLE   M"
      ]
     },
     "execution_count": 40,
     "metadata": {},
     "output_type": "execute_result"
    }
   ],
   "source": [
    "animals = send_db.get_all_animals()\n",
    "\n",
    "animals.head()"
   ]
  },
  {
   "cell_type": "markdown",
   "metadata": {},
   "source": [
    "### Results section 3.1"
   ]
  },
  {
   "cell_type": "code",
   "execution_count": 41,
   "metadata": {},
   "outputs": [
    {
     "data": {
      "text/plain": [
       "169839"
      ]
     },
     "execution_count": 41,
     "metadata": {},
     "output_type": "execute_result"
    }
   ],
   "source": [
    "animals.USUBJID.nunique()"
   ]
  },
  {
   "cell_type": "code",
   "execution_count": 42,
   "metadata": {},
   "outputs": [
    {
     "data": {
      "text/plain": [
       "RAT           95464\n",
       "MOUSE         42770\n",
       "MONKEY        16980\n",
       "DOG           11629\n",
       "PIG            1657\n",
       "RABBIT         1426\n",
       "GUINEA PIG      334\n",
       "CAT             178\n",
       "MINIPIG           2\n",
       "Name: SPECIES, dtype: int64"
      ]
     },
     "execution_count": 42,
     "metadata": {},
     "output_type": "execute_result"
    }
   ],
   "source": [
    "animals.SPECIES.value_counts()"
   ]
  },
  {
   "cell_type": "code",
   "execution_count": 43,
   "metadata": {},
   "outputs": [
    {
     "data": {
      "text/plain": [
       "0.5620852689900435"
      ]
     },
     "execution_count": 43,
     "metadata": {},
     "output_type": "execute_result"
    }
   ],
   "source": [
    "95464/169839"
   ]
  },
  {
   "cell_type": "code",
   "execution_count": 44,
   "metadata": {},
   "outputs": [
    {
     "name": "stderr",
     "output_type": "stream",
     "text": [
      "/hive/Anaconda3-2020.02/lib/python3.7/site-packages/IPython/core/interactiveshell.py:3063: DtypeWarning: Columns (1) have mixed types.Specify dtype option on import or set low_memory=False.\n",
      "  interactivity=interactivity, compiler=compiler, result=result)\n"
     ]
    }
   ],
   "source": [
    "training = pd.read_csv('data/RAT/RAT_training_data.csv')"
   ]
  },
  {
   "cell_type": "code",
   "execution_count": 45,
   "metadata": {},
   "outputs": [
    {
     "data": {
      "text/plain": [
       "17285"
      ]
     },
     "execution_count": 45,
     "metadata": {},
     "output_type": "execute_result"
    }
   ],
   "source": [
    "training.USUBJID.nunique()"
   ]
  },
  {
   "cell_type": "markdown",
   "metadata": {},
   "source": [
    "### Results section 3.2"
   ]
  },
  {
   "cell_type": "code",
   "execution_count": 46,
   "metadata": {},
   "outputs": [],
   "source": [
    "mi = send_db.generic_query('SELECT * FROM MI')\n",
    "\n",
    "mi['MISPEC'] = mi['MISPEC'].str.upper()\n",
    "mi['MISTRESC'] = mi['MISTRESC'].str.upper()\n",
    "\n",
    "liver = mi[mi.MISPEC == 'LIVER']"
   ]
  },
  {
   "cell_type": "code",
   "execution_count": 52,
   "metadata": {},
   "outputs": [
    {
     "name": "stdout",
     "output_type": "stream",
     "text": [
      "LIVER                                     114636\n",
      "KIDNEY                                    105560\n",
      "GLAND, ADRENAL                             97592\n",
      "SPLEEN                                     89112\n",
      "THYMUS                                     87497\n",
      "                                           ...  \n",
      "ESOPHAGUS/TRACHEA                              1\n",
      "LYMPH NODE,  MESENTERIC                        1\n",
      "DOSING SITE #1                                 1\n",
      "BRAIN, CEREBRUM/BRAIN, CEREBELLUM              1\n",
      "HEMOLYMPHORETICULAR SYSTEM (ALL SITES)         1\n",
      "Name: MISPEC, Length: 579, dtype: int64\n",
      "3803024\n"
     ]
    }
   ],
   "source": [
    "print(mi.MISPEC.value_counts())\n",
    "print(mi.shape[0])"
   ]
  },
  {
   "cell_type": "code",
   "execution_count": 53,
   "metadata": {},
   "outputs": [
    {
     "name": "stdout",
     "output_type": "stream",
     "text": [
      "     STUDYID DOMAIN        USUBJID  MISEQ  ... FOCID MICHRON MIDISTR VISITDY\n",
      "29   8391504     MI  8391504-R0001     30  ...  None    None    None     NaN\n",
      "30   8391504     MI  8391504-R0001     31  ...  None    None    None     NaN\n",
      "57   8391504     MI  8391504-R0002     58  ...  None    None    None     NaN\n",
      "118  8391504     MI  8391504-R0003    119  ...  None    None    None     NaN\n",
      "175  8391504     MI  8391504-R0004    176  ...  None    None    None     NaN\n",
      "\n",
      "[5 rows x 32 columns]\n"
     ]
    }
   ],
   "source": [
    "liver_training_rats = liver[liver.USUBJID.isin(training.USUBJID.values)]\n",
    "\n",
    "print(liver_training_rats.head())"
   ]
  },
  {
   "cell_type": "code",
   "execution_count": 56,
   "metadata": {},
   "outputs": [],
   "source": [
    "liver_training_rats.MISTRESC.value_counts().to_csv('data/RAT/text/training_set_liver_findings.csv')"
   ]
  },
  {
   "cell_type": "markdown",
   "metadata": {},
   "source": [
    "## Results Section 3.3"
   ]
  },
  {
   "cell_type": "code",
   "execution_count": null,
   "metadata": {},
   "outputs": [],
   "source": []
  }
 ],
 "metadata": {
  "kernelspec": {
   "display_name": "Python 3",
   "language": "python",
   "name": "python3"
  },
  "language_info": {
   "codemirror_mode": {
    "name": "ipython",
    "version": 3
   },
   "file_extension": ".py",
   "mimetype": "text/x-python",
   "name": "python",
   "nbconvert_exporter": "python",
   "pygments_lexer": "ipython3",
   "version": "3.7.6"
  }
 },
 "nbformat": 4,
 "nbformat_minor": 4
}

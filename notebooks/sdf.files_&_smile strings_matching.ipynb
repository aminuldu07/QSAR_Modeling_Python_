{
 "cells": [
  {
   "cell_type": "code",
   "execution_count": null,
   "id": "488fc9e0",
   "metadata": {},
   "outputs": [],
   "source": [
    "# find the matched sdf files by matching \"sdf files\" & a csv files containning \"smile string\"\n",
    "# \"sdf files\" & \"smile string\" matching\n",
    "\n",
    "import os\n",
    "import shutil\n",
    "import pandas as pd\n",
    "from rdkit import Chem\n"
   ]
  },
  {
   "cell_type": "code",
   "execution_count": 1,
   "id": "a551d322",
   "metadata": {},
   "outputs": [],
   "source": [
    "# Define the directory where SDF files are located\n",
    "sdf_directory = 'C:/Users/mdaminulisla.prodhan/All_My_Miscellenous/cleaned_sdf_single'\n",
    "\n",
    "# Define the directory where to put the matching SDF files\n",
    "output_directory = 'C:/Users/mdaminulisla.prodhan/All_My_Miscellenous/sdftosmile'"
   ]
  },
  {
   "cell_type": "code",
   "execution_count": null,
   "id": "f9c0db2c",
   "metadata": {},
   "outputs": [],
   "source": [
    "# Load the CSV file into a pandas dataframe\n",
    "df = pd.read_csv('C:/Users/mdaminulisla.prodhan/All_My_Miscellenous/df/U_SMILES.csv')\n",
    "\n",
    "# Convert the SMILES column into a set for faster lookup\n",
    "smiles_set = set(df['SMILES'])"
   ]
  },
  {
   "cell_type": "code",
   "execution_count": null,
   "id": "2f18aa36",
   "metadata": {},
   "outputs": [],
   "source": [
    "# Define the function to extract the SMILES string from an SDF file\n",
    "def get_smiles_from_sdf(file_path):\n",
    "    supplier = Chem.SDMolSupplier(file_path)\n",
    "    for mol in supplier:\n",
    "        if mol is not None:\n",
    "            return Chem.MolToSmiles(mol)\n",
    "    return None\n",
    "\n",
    "# Loop over all SDF files in the directory\n",
    "for file_name in os.listdir(sdf_directory):\n",
    "    if file_name.endswith('.sdf'):\n",
    "        file_path = os.path.join(sdf_directory, file_name)\n",
    "        smiles = get_smiles_from_sdf(file_path)\n",
    "        if smiles in smiles_set:\n",
    "            # If a match is found, copy the file to the output directory\n",
    "            shutil.copy(file_path, output_directory)\n"
   ]
  },
  {
   "cell_type": "code",
   "execution_count": null,
   "id": "3b9512eb",
   "metadata": {},
   "outputs": [],
   "source": [
    "# \"Exception error handling\" for the above function \n",
    "def get_smiles_from_sdf(file_path):\n",
    "    try:\n",
    "        supplier = Chem.SDMolSupplier(file_path)\n",
    "        for mol in supplier:\n",
    "            if mol is not None:\n",
    "                return Chem.MolToSmiles(mol)\n",
    "    except Exception as e:\n",
    "        print(f\"Error processing file {file_path}: {e}\")\n",
    "    return None\n",
    "\n",
    "# Loop over all SDF files in the directory\n",
    "for file_name in os.listdir(sdf_directory):\n",
    "    if file_name.endswith('.sdf'):\n",
    "        file_path = os.path.join(sdf_directory, file_name)\n",
    "        smiles = get_smiles_from_sdf(file_path)\n",
    "        if smiles in smiles_set:\n",
    "            # If a match is found, copy the file to the output directory\n",
    "            shutil.copy(file_path, output_directory)"
   ]
  },
  {
   "cell_type": "code",
   "execution_count": null,
   "id": "2df4b8e7",
   "metadata": {},
   "outputs": [],
   "source": []
  }
 ],
 "metadata": {
  "kernelspec": {
   "display_name": "Python 3 (ipykernel)",
   "language": "python",
   "name": "python3"
  },
  "language_info": {
   "codemirror_mode": {
    "name": "ipython",
    "version": 3
   },
   "file_extension": ".py",
   "mimetype": "text/x-python",
   "name": "python",
   "nbconvert_exporter": "python",
   "pygments_lexer": "ipython3",
   "version": "3.11.0"
  }
 },
 "nbformat": 4,
 "nbformat_minor": 5
}

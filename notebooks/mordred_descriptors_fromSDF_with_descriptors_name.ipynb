{
 "cells": [
  {
   "cell_type": "code",
   "execution_count": 11,
   "id": "311ecc1d",
   "metadata": {},
   "outputs": [],
   "source": [
    "## ## Calculate descriptors using mordred from sdf file \n",
    "\n",
    "from mordred import Calculator, descriptors\n",
    "from rdkit import Chem\n",
    "import os\n",
    "import pandas as pd"
   ]
  },
  {
   "cell_type": "code",
   "execution_count": 12,
   "id": "9e9c41e6",
   "metadata": {},
   "outputs": [],
   "source": [
    "# Initialize a calculator with all available descriptors\n",
    "calc = Calculator(descriptors, ignore_3D=True)\n",
    "\n",
    "# Define the directory of SDF files\n",
    "sdf_directory = 'C:/Users/mdaminulisla.prodhan/All_My_Miscellenous/sdftosmile'\n",
    "\n",
    "# Get a list of all SDF files in the directory\n",
    "sdf_files = [f for f in os.listdir(sdf_directory) if f.endswith('.sdf')]"
   ]
  },
  {
   "cell_type": "code",
   "execution_count": 13,
   "id": "dfb89a88",
   "metadata": {},
   "outputs": [
    {
     "name": "stderr",
     "output_type": "stream",
     "text": [
      "C:\\Users\\mdaminulisla.prodhan\\AppData\\Local\\Temp\\1\\ipykernel_16012\\201661621.py:25: PerformanceWarning: DataFrame is highly fragmented.  This is usually the result of calling `frame.insert` many times, which has poor performance.  Consider joining all columns at once using pd.concat(axis=1) instead. To get a de-fragmented frame, use `newframe = frame.copy()`\n",
      "  final_df.reset_index(inplace=True)  # reset index to have level_0 as 'Filename'\n",
      "C:\\Users\\mdaminulisla.prodhan\\AppData\\Local\\Temp\\1\\ipykernel_16012\\201661621.py:25: PerformanceWarning: DataFrame is highly fragmented.  This is usually the result of calling `frame.insert` many times, which has poor performance.  Consider joining all columns at once using pd.concat(axis=1) instead. To get a de-fragmented frame, use `newframe = frame.copy()`\n",
      "  final_df.reset_index(inplace=True)  # reset index to have level_0 as 'Filename'\n"
     ]
    }
   ],
   "source": [
    "# A dictionary to hold all the dataframes\n",
    "dict_dfs = {}\n",
    "\n",
    "# Loop over each SDF file\n",
    "for sdf_file in sdf_files:\n",
    "\n",
    "    # Full path to the SDF file\n",
    "    sdf_path = os.path.join(sdf_directory, sdf_file)\n",
    "\n",
    "    # Read the SDF file\n",
    "    supplier = Chem.SDMolSupplier(sdf_path)\n",
    "\n",
    "    # Calculate the descriptors for each molecule\n",
    "    descriptor_values = [calc(mol) for mol in supplier if mol is not None]\n",
    "\n",
    "    # Convert the descriptor values to a DataFrame\n",
    "    df = pd.DataFrame(descriptor_values, columns=descriptor_names)\n",
    "    df['Filename'] = sdf_file  # adding filename column to dataframe\n",
    "\n",
    "    # Add the dataframe to the list\n",
    "    dict_dfs[sdf_file] = df\n",
    "\n",
    "# Concatenate all the dataframes\n",
    "final_df = pd.concat(dict_dfs, ignore_index=False)\n",
    "final_df.reset_index(inplace=True)  # reset index to have level_0 as 'Filename'\n",
    "final_df.rename(columns={'level_0': 'Filename'}, inplace=True)  # rename column to 'Filename'\n",
    "final_df.set_index('Filename', inplace=True)  # set 'Filename' as index\n"
   ]
  },
  {
   "cell_type": "code",
   "execution_count": 14,
   "id": "099bd53b",
   "metadata": {},
   "outputs": [],
   "source": [
    "# Save the DataFrame to a CSV file\n",
    "final_df.to_csv('C:/Users/mdaminulisla.prodhan/All_My_Miscellenous/sdftosmile/mordred_descriptors_fromSDF_with_descriptors_name.csv')"
   ]
  }
 ],
 "metadata": {
  "kernelspec": {
   "display_name": "Python 3 (ipykernel)",
   "language": "python",
   "name": "python3"
  },
  "language_info": {
   "codemirror_mode": {
    "name": "ipython",
    "version": 3
   },
   "file_extension": ".py",
   "mimetype": "text/x-python",
   "name": "python",
   "nbconvert_exporter": "python",
   "pygments_lexer": "ipython3",
   "version": "3.11.0"
  }
 },
 "nbformat": 4,
 "nbformat_minor": 5
}

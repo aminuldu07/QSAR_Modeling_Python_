{
 "cells": [
  {
   "cell_type": "markdown",
   "metadata": {},
   "source": [
    "# eDISH Plots for Office of Women's Health \n",
    "\n",
    "This notebook is for creating interactive [eDISH plots](https://pubmed.ncbi.nlm.nih.gov/21332248/#:~:text=eDISH%20(evaluation%20of%20Drug%2DInduced,laboratory%20data%20for%20each%20subject).  "
   ]
  },
  {
   "cell_type": "code",
   "execution_count": 1,
   "metadata": {},
   "outputs": [],
   "source": [
    "import warnings\n",
    "warnings.filterwarnings(\"ignore\")\n",
    "\n",
    "import pandas as pd\n",
    "import glob\n",
    "import matplotlib.pylab as plt\n",
    "from matplotlib.ticker import NullFormatter\n",
    "from numpy.polynomial.polynomial import polyfit\n",
    "\n",
    "import os, math\n",
    "import numpy as np\n",
    "\n",
    "from send import send_db"
   ]
  },
  {
   "cell_type": "code",
   "execution_count": 2,
   "metadata": {},
   "outputs": [],
   "source": [
    "import re\n",
    "\n",
    "def filter_text(x):\n",
    "    \n",
    "    \"\"\" returns null if x does not contain a valid numeric response,\n",
    "    else it extracts that using a regex pattern \"\"\"\n",
    "    digit_pattern = r'[-+]?([0-9]*\\.[0-9]+|[0-9]+)'\n",
    "    digit_extract = re.search(digit_pattern, str(x))\n",
    "    if digit_extract:\n",
    "        return float(digit_extract.group(0))\n",
    "    return np.nan\n",
    "\n",
    "def regrex_match(regrex, string: str):\n",
    "    \"\"\" generic function to just max a string of text \"\"\"\n",
    "    pattern = re.compile(regrex, re.IGNORECASE)\n",
    "    match = pattern.search(string)\n",
    "    if match:\n",
    "        return True\n",
    "    return False\n",
    "\n",
    "\n",
    "def is_cholestasis(finding: str):\n",
    "    \"\"\" takes a text string from an MI finding and classifies whether or not\n",
    "        the finding can be classified as cholestasis\n",
    "\n",
    "        wikipedia link for Cholestasis: https://en.wikipedia.org/wiki/Cholestasis\n",
    "    \"\"\"\n",
    "    regrex = r'chol(e|o|a)|bil(i|e)'\n",
    "    return regrex_match(regrex, finding)\n",
    "\n",
    "def is_steatosis(finding: str):\n",
    "\n",
    "    \"\"\" takes a text string from an MI finding and classifies whether or not\n",
    "        the finding can be classified as steatosis\n",
    "\n",
    "        wikipedia link for steatosis: https://en.wikipedia.org/wiki/Steatosis\n",
    "    \"\"\"\n",
    "    steatosis_regrex = r'fat|lipid|vacuol|acc|steat|congest'\n",
    "    increased_regrex = r'decreas|lower'\n",
    "    return regrex_match(steatosis_regrex, finding) and not regrex_match(increased_regrex, finding)\n",
    "\n",
    "def is_necrosis(finding: str):\n",
    "    \"\"\" takes a text string from an MI finding and classifies whether or not\n",
    "        the finding can be classified as necrosis\n",
    "\n",
    "        \"\"\"\n",
    "    steatosis_regrex = r'necros|fibros|degen|atroph|apop|deplet'\n",
    "    return regrex_match(steatosis_regrex, finding)\n",
    "\n",
    "\n",
    "def classify_helper(helper_fx, findings):\n",
    "    \"\"\" goes through all the findings and returns if the helper function results in true \"\"\"\n",
    "    for finding in findings:\n",
    "        if helper_fx(finding):\n",
    "            return 1\n",
    "    return 0\n",
    "\n",
    "from functools import partial\n",
    "classify_steatosis = partial(classify_helper, is_steatosis)\n",
    "classify_cholestasis = partial(classify_helper, is_cholestasis)\n",
    "classify_necrosis = partial(classify_helper, is_necrosis)\n",
    "\n",
    "def get_classified_liver_results():\n",
    "    \"\"\" will pull all liver results and classfy them as either necrosis, steatosis, cholestasis \"\"\"\n",
    "    mi = send_db.generic_query('SELECT STUDYID, USUBJID, MISTRESC FROM MI WHERE MISPEC=\"LIVER\"')\n",
    "    mi['STEATOSIS'] = mi.groupby(['STUDYID', 'USUBJID'])['MISTRESC'].transform(classify_steatosis)\n",
    "    mi['CHOLESTASIS'] = mi.groupby(['STUDYID', 'USUBJID'])['MISTRESC'].transform(classify_cholestasis)\n",
    "    mi['NECROSIS'] = mi.groupby(['STUDYID', 'USUBJID'])['MISTRESC'].transform(classify_necrosis)\n",
    "    mi['MISTRESC'] = mi.groupby(['STUDYID', 'USUBJID'])['MISTRESC'].transform(lambda x: ';'.join(x))\n",
    "    return mi.drop_duplicates(['STUDYID', 'USUBJID'])"
   ]
  },
  {
   "cell_type": "markdown",
   "metadata": {},
   "source": [
    "# Set Global Variables\n",
    "\n",
    "There are two global variables that need to be set relative to the ineractive eDISH plots that will be made.  \n",
    "\n",
    "1) `SPECIES`: the species, in SEND controlled terminology to be used to create plots.  \n",
    "2) `LBSPEC`: the specimen, in SEND controlled terminology to be used for the ALT and BILI responses.  This refers to the \"tissue\" or \"component\" the sample is taken from (i.e., plasma or serum).  "
   ]
  },
  {
   "cell_type": "code",
   "execution_count": 3,
   "metadata": {},
   "outputs": [],
   "source": [
    "SPECIES = 'RAT'\n",
    "LBSPEC = 'SERUM'"
   ]
  },
  {
   "cell_type": "markdown",
   "metadata": {},
   "source": [
    "### Select animals"
   ]
  },
  {
   "cell_type": "code",
   "execution_count": 4,
   "metadata": {},
   "outputs": [
    {
     "name": "stdout",
     "output_type": "stream",
     "text": [
      "     STUDYID  ID        USUBJID SPECIES          STRAIN SEX\n",
      "54  00086623   1  00086623-1001     RAT  SPRAGUE-DAWLEY   M\n",
      "55  00086623   1  00086623-1002     RAT  SPRAGUE-DAWLEY   M\n",
      "56  00086623   1  00086623-1003     RAT  SPRAGUE-DAWLEY   M\n",
      "57  00086623   1  00086623-1004     RAT  SPRAGUE-DAWLEY   M\n",
      "58  00086623   1  00086623-1005     RAT  SPRAGUE-DAWLEY   M\n"
     ]
    }
   ],
   "source": [
    "animals = send_db.get_all_animals()\n",
    "animals = animals[animals.SPECIES == SPECIES]\n",
    "print(animals.head())"
   ]
  },
  {
   "cell_type": "markdown",
   "metadata": {},
   "source": [
    "Get all the ALT and BILI responses from for the target animals. "
   ]
  },
  {
   "cell_type": "code",
   "execution_count": 5,
   "metadata": {},
   "outputs": [
    {
     "name": "stdout",
     "output_type": "stream",
     "text": [
      "         USUBJID LBTESTCD LBSPEC LBSTRESC LBSTRESU\n",
      "0  8391504-R0001      ALT  SERUM       45      U/L\n",
      "1  8391504-R0001      ALT  SERUM       34      U/L\n",
      "2  8391504-R0001     BILI  SERUM     <0.1    mg/dL\n",
      "3  8391504-R0001     BILI  SERUM      0.1    mg/dL\n",
      "4  8391504-R0002      ALT  SERUM       34      U/L\n"
     ]
    }
   ],
   "source": [
    "clin_chem = send_db.generic_query(f'SELECT USUBJID, LBTESTCD, LBSPEC, LBSTRESC, LBSTRESU FROM LB WHERE (LBTESTCD == \"ALT\" OR LBTESTCD == \"BILI\") AND (LBSPEC == \"{LBSPEC}\")')\n",
    "\n",
    "clin_chem = clin_chem[clin_chem.USUBJID.isin(animals.USUBJID)]\n",
    "\n",
    "print(clin_chem.head())"
   ]
  },
  {
   "cell_type": "markdown",
   "metadata": {},
   "source": [
    "### Check unit for ALT and BILI.\n",
    "\n",
    "From previous tests, there appears to be only 2 unique units provided for each test.  \n",
    "\n",
    "ALT -> UI/L or IU/L or ukat/L  \n",
    "BILI -> mg/dL or umol/L"
   ]
  },
  {
   "cell_type": "code",
   "execution_count": 6,
   "metadata": {},
   "outputs": [
    {
     "name": "stdout",
     "output_type": "stream",
     "text": [
      "Unique ALT tests:  ['U/L' '' 'IU/L' 'ukat/L']\n",
      "Unique BILI tests:  ['mg/dL' '' 'umol/L']\n"
     ]
    }
   ],
   "source": [
    "print(\"Unique ALT tests: \", clin_chem[clin_chem.LBTESTCD == 'ALT'].LBSTRESU.unique())\n",
    "print(\"Unique BILI tests: \", clin_chem[clin_chem.LBTESTCD == 'BILI'].LBSTRESU.unique())"
   ]
  },
  {
   "cell_type": "markdown",
   "metadata": {},
   "source": [
    "### Conversion\n",
    "\n",
    "1) Remove unitless responses  \n",
    "2) Use `filter_text` to extract numeric values from discrete responses (e.g., <0.1)   \n",
    "3a) ALT -> convert ukat/L to IU/L or U/L by multiplying by 1/0.0167  \n",
    "3b) BILI -> convert umol/L  to mg/dL by multiplying by 1/17.104    "
   ]
  },
  {
   "cell_type": "code",
   "execution_count": 7,
   "metadata": {},
   "outputs": [
    {
     "data": {
      "text/html": [
       "<div>\n",
       "<style scoped>\n",
       "    .dataframe tbody tr th:only-of-type {\n",
       "        vertical-align: middle;\n",
       "    }\n",
       "\n",
       "    .dataframe tbody tr th {\n",
       "        vertical-align: top;\n",
       "    }\n",
       "\n",
       "    .dataframe thead th {\n",
       "        text-align: right;\n",
       "    }\n",
       "</style>\n",
       "<table border=\"1\" class=\"dataframe\">\n",
       "  <thead>\n",
       "    <tr style=\"text-align: right;\">\n",
       "      <th></th>\n",
       "      <th>USUBJID</th>\n",
       "      <th>LBTESTCD</th>\n",
       "      <th>LBSPEC</th>\n",
       "      <th>LBSTRESC</th>\n",
       "      <th>LBSTRESU</th>\n",
       "      <th>LBSTRESC_T</th>\n",
       "      <th>LBSTRESC_CONV</th>\n",
       "    </tr>\n",
       "  </thead>\n",
       "  <tbody>\n",
       "    <tr>\n",
       "      <th>0</th>\n",
       "      <td>8391504-R0001</td>\n",
       "      <td>ALT</td>\n",
       "      <td>SERUM</td>\n",
       "      <td>45</td>\n",
       "      <td>U/L</td>\n",
       "      <td>45.0</td>\n",
       "      <td>45.0</td>\n",
       "    </tr>\n",
       "    <tr>\n",
       "      <th>1</th>\n",
       "      <td>8391504-R0001</td>\n",
       "      <td>ALT</td>\n",
       "      <td>SERUM</td>\n",
       "      <td>34</td>\n",
       "      <td>U/L</td>\n",
       "      <td>34.0</td>\n",
       "      <td>34.0</td>\n",
       "    </tr>\n",
       "    <tr>\n",
       "      <th>2</th>\n",
       "      <td>8391504-R0001</td>\n",
       "      <td>BILI</td>\n",
       "      <td>SERUM</td>\n",
       "      <td>&lt;0.1</td>\n",
       "      <td>mg/dL</td>\n",
       "      <td>0.1</td>\n",
       "      <td>0.1</td>\n",
       "    </tr>\n",
       "    <tr>\n",
       "      <th>3</th>\n",
       "      <td>8391504-R0001</td>\n",
       "      <td>BILI</td>\n",
       "      <td>SERUM</td>\n",
       "      <td>0.1</td>\n",
       "      <td>mg/dL</td>\n",
       "      <td>0.1</td>\n",
       "      <td>0.1</td>\n",
       "    </tr>\n",
       "    <tr>\n",
       "      <th>4</th>\n",
       "      <td>8391504-R0002</td>\n",
       "      <td>ALT</td>\n",
       "      <td>SERUM</td>\n",
       "      <td>34</td>\n",
       "      <td>U/L</td>\n",
       "      <td>34.0</td>\n",
       "      <td>34.0</td>\n",
       "    </tr>\n",
       "  </tbody>\n",
       "</table>\n",
       "</div>"
      ],
      "text/plain": [
       "         USUBJID LBTESTCD LBSPEC LBSTRESC LBSTRESU  LBSTRESC_T  LBSTRESC_CONV\n",
       "0  8391504-R0001      ALT  SERUM       45      U/L        45.0           45.0\n",
       "1  8391504-R0001      ALT  SERUM       34      U/L        34.0           34.0\n",
       "2  8391504-R0001     BILI  SERUM     <0.1    mg/dL         0.1            0.1\n",
       "3  8391504-R0001     BILI  SERUM      0.1    mg/dL         0.1            0.1\n",
       "4  8391504-R0002      ALT  SERUM       34      U/L        34.0           34.0"
      ]
     },
     "execution_count": 7,
     "metadata": {},
     "output_type": "execute_result"
    }
   ],
   "source": [
    "\n",
    "clin_chem = clin_chem[clin_chem.LBSTRESU != '']\n",
    "\n",
    "clin_chem['LBSTRESC_T'] = clin_chem.LBSTRESC.apply(filter_text)\n",
    "clin_chem = clin_chem[clin_chem.LBSTRESC_T.notnull()]\n",
    "\n",
    "clin_chem['LBSTRESC_CONV'] = clin_chem.LBSTRESC_T\n",
    "\n",
    "clin_chem.loc[(clin_chem.LBTESTCD == 'ALT') & (clin_chem.LBSTRESU == 'ukat/L'), 'LBSTRESC_CONV'] = clin_chem.loc[(clin_chem.LBTESTCD == 'ALT') & (clin_chem.LBSTRESU == 'ukat/L'), 'LBSTRESC_T'] * (1/0.0167)\n",
    "clin_chem.loc[(clin_chem.LBTESTCD == 'BILI') & (clin_chem.LBSTRESU == 'umol/L'), 'LBSTRESC_CONV'] = clin_chem.loc[(clin_chem.LBTESTCD == 'BILI') & (clin_chem.LBSTRESU == 'umol/L'), 'LBSTRESC_T'] * (1/17.104)\n",
    "clin_chem.head()"
   ]
  },
  {
   "cell_type": "markdown",
   "metadata": {},
   "source": [
    "### Transform data\n",
    "\n",
    "Merge the converted data with the animal meta data, then take the max response for each animal/LBTESTCD.\n",
    "\n",
    "Pivot the data from long to wide format."
   ]
  },
  {
   "cell_type": "code",
   "execution_count": 8,
   "metadata": {},
   "outputs": [
    {
     "name": "stdout",
     "output_type": "stream",
     "text": [
      "    STUDYID  ID        USUBJID SPECIES          STRAIN SEX   ALT  BILI\n",
      "0  00086624   1  00086624-1001     RAT  SPRAGUE-DAWLEY   M  58.0   0.0\n",
      "1  00086624   1  00086624-1002     RAT  SPRAGUE-DAWLEY   M  80.0   0.0\n",
      "2  00086624   1  00086624-1003     RAT  SPRAGUE-DAWLEY   M  85.0   0.1\n",
      "3  00086624   1  00086624-1004     RAT  SPRAGUE-DAWLEY   M  77.0   0.0\n",
      "4  00086624   1  00086624-1005     RAT  SPRAGUE-DAWLEY   M  82.0   0.1\n"
     ]
    }
   ],
   "source": [
    "animal_clin_chem = animals.merge(clin_chem)\n",
    "\n",
    "animal_clin_chem.loc[:, 'LBSTRESC_MAX'] = animal_clin_chem.groupby(['STUDYID', 'USUBJID',  'LBTESTCD'])['LBSTRESC_CONV'].transform('max')\n",
    "max_responses = animal_clin_chem.drop_duplicates(['STUDYID', 'USUBJID',  'LBTESTCD'])\n",
    "\n",
    "\n",
    "data = max_responses.pivot_table(index=['STUDYID', 'USUBJID'], \n",
    "                                            columns='LBTESTCD', \n",
    "                                            values='LBSTRESC_MAX').reset_index()\n",
    "\n",
    "data = data[data[['ALT', 'BILI']].notnull().all(1)]\n",
    "\n",
    "animal_data = animals.merge(data)\n",
    "print(animal_data.head())"
   ]
  },
  {
   "cell_type": "markdown",
   "metadata": {},
   "source": [
    "### Merge histopath findings"
   ]
  },
  {
   "cell_type": "code",
   "execution_count": 9,
   "metadata": {},
   "outputs": [
    {
     "name": "stdout",
     "output_type": "stream",
     "text": [
      "    STUDYID  ID        USUBJID SPECIES          STRAIN SEX   ALT  BILI  \\\n",
      "0  00086624   1  00086624-1001     RAT  SPRAGUE-DAWLEY   M  58.0   0.0   \n",
      "1  00086624   1  00086624-1002     RAT  SPRAGUE-DAWLEY   M  80.0   0.0   \n",
      "2  00086624   1  00086624-1003     RAT  SPRAGUE-DAWLEY   M  85.0   0.1   \n",
      "3  00086624   1  00086624-1004     RAT  SPRAGUE-DAWLEY   M  77.0   0.0   \n",
      "4  00086624   1  00086624-1005     RAT  SPRAGUE-DAWLEY   M  82.0   0.1   \n",
      "\n",
      "                         MISTRESC  STEATOSIS  CHOLESTASIS  NECROSIS  \n",
      "0  Infiltration, mononuclear cell          0            0         0  \n",
      "1                          NORMAL          0            0         0  \n",
      "2                          NORMAL          0            0         0  \n",
      "3  Infiltration, mononuclear cell          0            0         0  \n",
      "4  Infiltration, mononuclear cell          0            0         0  \n"
     ]
    }
   ],
   "source": [
    "liver_findings = get_classified_liver_results()\n",
    "\n",
    "animal_data = animal_data.merge(liver_findings)\n",
    "print(animal_data.head())"
   ]
  },
  {
   "cell_type": "markdown",
   "metadata": {},
   "source": [
    "### Load Bokeh\n",
    "\n",
    "Bokeh is nice for interactions, so load that for these plots."
   ]
  },
  {
   "cell_type": "code",
   "execution_count": 10,
   "metadata": {},
   "outputs": [
    {
     "data": {
      "text/html": [
       "\n",
       "    <div class=\"bk-root\">\n",
       "        <a href=\"https://bokeh.org\" target=\"_blank\" class=\"bk-logo bk-logo-small bk-logo-notebook\"></a>\n",
       "        <span id=\"1001\">Loading BokehJS ...</span>\n",
       "    </div>"
      ]
     },
     "metadata": {},
     "output_type": "display_data"
    },
    {
     "data": {
      "application/javascript": [
       "\n",
       "(function(root) {\n",
       "  function now() {\n",
       "    return new Date();\n",
       "  }\n",
       "\n",
       "  var force = true;\n",
       "\n",
       "  if (typeof root._bokeh_onload_callbacks === \"undefined\" || force === true) {\n",
       "    root._bokeh_onload_callbacks = [];\n",
       "    root._bokeh_is_loading = undefined;\n",
       "  }\n",
       "\n",
       "  var JS_MIME_TYPE = 'application/javascript';\n",
       "  var HTML_MIME_TYPE = 'text/html';\n",
       "  var EXEC_MIME_TYPE = 'application/vnd.bokehjs_exec.v0+json';\n",
       "  var CLASS_NAME = 'output_bokeh rendered_html';\n",
       "\n",
       "  /**\n",
       "   * Render data to the DOM node\n",
       "   */\n",
       "  function render(props, node) {\n",
       "    var script = document.createElement(\"script\");\n",
       "    node.appendChild(script);\n",
       "  }\n",
       "\n",
       "  /**\n",
       "   * Handle when an output is cleared or removed\n",
       "   */\n",
       "  function handleClearOutput(event, handle) {\n",
       "    var cell = handle.cell;\n",
       "\n",
       "    var id = cell.output_area._bokeh_element_id;\n",
       "    var server_id = cell.output_area._bokeh_server_id;\n",
       "    // Clean up Bokeh references\n",
       "    if (id != null && id in Bokeh.index) {\n",
       "      Bokeh.index[id].model.document.clear();\n",
       "      delete Bokeh.index[id];\n",
       "    }\n",
       "\n",
       "    if (server_id !== undefined) {\n",
       "      // Clean up Bokeh references\n",
       "      var cmd = \"from bokeh.io.state import curstate; print(curstate().uuid_to_server['\" + server_id + \"'].get_sessions()[0].document.roots[0]._id)\";\n",
       "      cell.notebook.kernel.execute(cmd, {\n",
       "        iopub: {\n",
       "          output: function(msg) {\n",
       "            var id = msg.content.text.trim();\n",
       "            if (id in Bokeh.index) {\n",
       "              Bokeh.index[id].model.document.clear();\n",
       "              delete Bokeh.index[id];\n",
       "            }\n",
       "          }\n",
       "        }\n",
       "      });\n",
       "      // Destroy server and session\n",
       "      var cmd = \"import bokeh.io.notebook as ion; ion.destroy_server('\" + server_id + \"')\";\n",
       "      cell.notebook.kernel.execute(cmd);\n",
       "    }\n",
       "  }\n",
       "\n",
       "  /**\n",
       "   * Handle when a new output is added\n",
       "   */\n",
       "  function handleAddOutput(event, handle) {\n",
       "    var output_area = handle.output_area;\n",
       "    var output = handle.output;\n",
       "\n",
       "    // limit handleAddOutput to display_data with EXEC_MIME_TYPE content only\n",
       "    if ((output.output_type != \"display_data\") || (!output.data.hasOwnProperty(EXEC_MIME_TYPE))) {\n",
       "      return\n",
       "    }\n",
       "\n",
       "    var toinsert = output_area.element.find(\".\" + CLASS_NAME.split(' ')[0]);\n",
       "\n",
       "    if (output.metadata[EXEC_MIME_TYPE][\"id\"] !== undefined) {\n",
       "      toinsert[toinsert.length - 1].firstChild.textContent = output.data[JS_MIME_TYPE];\n",
       "      // store reference to embed id on output_area\n",
       "      output_area._bokeh_element_id = output.metadata[EXEC_MIME_TYPE][\"id\"];\n",
       "    }\n",
       "    if (output.metadata[EXEC_MIME_TYPE][\"server_id\"] !== undefined) {\n",
       "      var bk_div = document.createElement(\"div\");\n",
       "      bk_div.innerHTML = output.data[HTML_MIME_TYPE];\n",
       "      var script_attrs = bk_div.children[0].attributes;\n",
       "      for (var i = 0; i < script_attrs.length; i++) {\n",
       "        toinsert[toinsert.length - 1].firstChild.setAttribute(script_attrs[i].name, script_attrs[i].value);\n",
       "        toinsert[toinsert.length - 1].firstChild.textContent = bk_div.children[0].textContent\n",
       "      }\n",
       "      // store reference to server id on output_area\n",
       "      output_area._bokeh_server_id = output.metadata[EXEC_MIME_TYPE][\"server_id\"];\n",
       "    }\n",
       "  }\n",
       "\n",
       "  function register_renderer(events, OutputArea) {\n",
       "\n",
       "    function append_mime(data, metadata, element) {\n",
       "      // create a DOM node to render to\n",
       "      var toinsert = this.create_output_subarea(\n",
       "        metadata,\n",
       "        CLASS_NAME,\n",
       "        EXEC_MIME_TYPE\n",
       "      );\n",
       "      this.keyboard_manager.register_events(toinsert);\n",
       "      // Render to node\n",
       "      var props = {data: data, metadata: metadata[EXEC_MIME_TYPE]};\n",
       "      render(props, toinsert[toinsert.length - 1]);\n",
       "      element.append(toinsert);\n",
       "      return toinsert\n",
       "    }\n",
       "\n",
       "    /* Handle when an output is cleared or removed */\n",
       "    events.on('clear_output.CodeCell', handleClearOutput);\n",
       "    events.on('delete.Cell', handleClearOutput);\n",
       "\n",
       "    /* Handle when a new output is added */\n",
       "    events.on('output_added.OutputArea', handleAddOutput);\n",
       "\n",
       "    /**\n",
       "     * Register the mime type and append_mime function with output_area\n",
       "     */\n",
       "    OutputArea.prototype.register_mime_type(EXEC_MIME_TYPE, append_mime, {\n",
       "      /* Is output safe? */\n",
       "      safe: true,\n",
       "      /* Index of renderer in `output_area.display_order` */\n",
       "      index: 0\n",
       "    });\n",
       "  }\n",
       "\n",
       "  // register the mime type if in Jupyter Notebook environment and previously unregistered\n",
       "  if (root.Jupyter !== undefined) {\n",
       "    var events = require('base/js/events');\n",
       "    var OutputArea = require('notebook/js/outputarea').OutputArea;\n",
       "\n",
       "    if (OutputArea.prototype.mime_types().indexOf(EXEC_MIME_TYPE) == -1) {\n",
       "      register_renderer(events, OutputArea);\n",
       "    }\n",
       "  }\n",
       "\n",
       "  \n",
       "  if (typeof (root._bokeh_timeout) === \"undefined\" || force === true) {\n",
       "    root._bokeh_timeout = Date.now() + 5000;\n",
       "    root._bokeh_failed_load = false;\n",
       "  }\n",
       "\n",
       "  var NB_LOAD_WARNING = {'data': {'text/html':\n",
       "     \"<div style='background-color: #fdd'>\\n\"+\n",
       "     \"<p>\\n\"+\n",
       "     \"BokehJS does not appear to have successfully loaded. If loading BokehJS from CDN, this \\n\"+\n",
       "     \"may be due to a slow or bad network connection. Possible fixes:\\n\"+\n",
       "     \"</p>\\n\"+\n",
       "     \"<ul>\\n\"+\n",
       "     \"<li>re-rerun `output_notebook()` to attempt to load from CDN again, or</li>\\n\"+\n",
       "     \"<li>use INLINE resources instead, as so:</li>\\n\"+\n",
       "     \"</ul>\\n\"+\n",
       "     \"<code>\\n\"+\n",
       "     \"from bokeh.resources import INLINE\\n\"+\n",
       "     \"output_notebook(resources=INLINE)\\n\"+\n",
       "     \"</code>\\n\"+\n",
       "     \"</div>\"}};\n",
       "\n",
       "  function display_loaded() {\n",
       "    var el = document.getElementById(\"1001\");\n",
       "    if (el != null) {\n",
       "      el.textContent = \"BokehJS is loading...\";\n",
       "    }\n",
       "    if (root.Bokeh !== undefined) {\n",
       "      if (el != null) {\n",
       "        el.textContent = \"BokehJS \" + root.Bokeh.version + \" successfully loaded.\";\n",
       "      }\n",
       "    } else if (Date.now() < root._bokeh_timeout) {\n",
       "      setTimeout(display_loaded, 100)\n",
       "    }\n",
       "  }\n",
       "\n",
       "\n",
       "  function run_callbacks() {\n",
       "    try {\n",
       "      root._bokeh_onload_callbacks.forEach(function(callback) {\n",
       "        if (callback != null)\n",
       "          callback();\n",
       "      });\n",
       "    } finally {\n",
       "      delete root._bokeh_onload_callbacks\n",
       "    }\n",
       "    console.debug(\"Bokeh: all callbacks have finished\");\n",
       "  }\n",
       "\n",
       "  function load_libs(css_urls, js_urls, callback) {\n",
       "    if (css_urls == null) css_urls = [];\n",
       "    if (js_urls == null) js_urls = [];\n",
       "\n",
       "    root._bokeh_onload_callbacks.push(callback);\n",
       "    if (root._bokeh_is_loading > 0) {\n",
       "      console.debug(\"Bokeh: BokehJS is being loaded, scheduling callback at\", now());\n",
       "      return null;\n",
       "    }\n",
       "    if (js_urls == null || js_urls.length === 0) {\n",
       "      run_callbacks();\n",
       "      return null;\n",
       "    }\n",
       "    console.debug(\"Bokeh: BokehJS not loaded, scheduling load and callback at\", now());\n",
       "    root._bokeh_is_loading = css_urls.length + js_urls.length;\n",
       "\n",
       "    function on_load() {\n",
       "      root._bokeh_is_loading--;\n",
       "      if (root._bokeh_is_loading === 0) {\n",
       "        console.debug(\"Bokeh: all BokehJS libraries/stylesheets loaded\");\n",
       "        run_callbacks()\n",
       "      }\n",
       "    }\n",
       "\n",
       "    function on_error() {\n",
       "      console.error(\"failed to load \" + url);\n",
       "    }\n",
       "\n",
       "    for (var i = 0; i < css_urls.length; i++) {\n",
       "      var url = css_urls[i];\n",
       "      const element = document.createElement(\"link\");\n",
       "      element.onload = on_load;\n",
       "      element.onerror = on_error;\n",
       "      element.rel = \"stylesheet\";\n",
       "      element.type = \"text/css\";\n",
       "      element.href = url;\n",
       "      console.debug(\"Bokeh: injecting link tag for BokehJS stylesheet: \", url);\n",
       "      document.body.appendChild(element);\n",
       "    }\n",
       "\n",
       "    const hashes = {\"https://cdn.bokeh.org/bokeh/release/bokeh-2.2.1.min.js\": \"qkRvDQVAIfzsJo40iRBbxt6sttt0hv4lh74DG7OK4MCHv4C5oohXYoHUM5W11uqS\", \"https://cdn.bokeh.org/bokeh/release/bokeh-widgets-2.2.1.min.js\": \"Sb7Mr06a9TNlet/GEBeKaf5xH3eb6AlCzwjtU82wNPyDrnfoiVl26qnvlKjmcAd+\", \"https://cdn.bokeh.org/bokeh/release/bokeh-tables-2.2.1.min.js\": \"HaJ15vgfmcfRtB4c4YBOI4f1MUujukqInOWVqZJZZGK7Q+ivud0OKGSTn/Vm2iso\"};\n",
       "\n",
       "    for (var i = 0; i < js_urls.length; i++) {\n",
       "      var url = js_urls[i];\n",
       "      var element = document.createElement('script');\n",
       "      element.onload = on_load;\n",
       "      element.onerror = on_error;\n",
       "      element.async = false;\n",
       "      element.src = url;\n",
       "      if (url in hashes) {\n",
       "        element.crossOrigin = \"anonymous\";\n",
       "        element.integrity = \"sha384-\" + hashes[url];\n",
       "      }\n",
       "      console.debug(\"Bokeh: injecting script tag for BokehJS library: \", url);\n",
       "      document.head.appendChild(element);\n",
       "    }\n",
       "  };\n",
       "\n",
       "  function inject_raw_css(css) {\n",
       "    const element = document.createElement(\"style\");\n",
       "    element.appendChild(document.createTextNode(css));\n",
       "    document.body.appendChild(element);\n",
       "  }\n",
       "\n",
       "  \n",
       "  var js_urls = [\"https://cdn.bokeh.org/bokeh/release/bokeh-2.2.1.min.js\", \"https://cdn.bokeh.org/bokeh/release/bokeh-widgets-2.2.1.min.js\", \"https://cdn.bokeh.org/bokeh/release/bokeh-tables-2.2.1.min.js\"];\n",
       "  var css_urls = [];\n",
       "  \n",
       "\n",
       "  var inline_js = [\n",
       "    function(Bokeh) {\n",
       "      Bokeh.set_log_level(\"info\");\n",
       "    },\n",
       "    function(Bokeh) {\n",
       "    \n",
       "    \n",
       "    }\n",
       "  ];\n",
       "\n",
       "  function run_inline_js() {\n",
       "    \n",
       "    if (root.Bokeh !== undefined || force === true) {\n",
       "      \n",
       "    for (var i = 0; i < inline_js.length; i++) {\n",
       "      inline_js[i].call(root, root.Bokeh);\n",
       "    }\n",
       "    if (force === true) {\n",
       "        display_loaded();\n",
       "      }} else if (Date.now() < root._bokeh_timeout) {\n",
       "      setTimeout(run_inline_js, 100);\n",
       "    } else if (!root._bokeh_failed_load) {\n",
       "      console.log(\"Bokeh: BokehJS failed to load within specified timeout.\");\n",
       "      root._bokeh_failed_load = true;\n",
       "    } else if (force !== true) {\n",
       "      var cell = $(document.getElementById(\"1001\")).parents('.cell').data().cell;\n",
       "      cell.output_area.append_execute_result(NB_LOAD_WARNING)\n",
       "    }\n",
       "\n",
       "  }\n",
       "\n",
       "  if (root._bokeh_is_loading === 0) {\n",
       "    console.debug(\"Bokeh: BokehJS loaded, going straight to plotting\");\n",
       "    run_inline_js();\n",
       "  } else {\n",
       "    load_libs(css_urls, js_urls, function() {\n",
       "      console.debug(\"Bokeh: BokehJS plotting callback run at\", now());\n",
       "      run_inline_js();\n",
       "    });\n",
       "  }\n",
       "}(window));"
      ],
      "application/vnd.bokehjs_load.v0+json": "\n(function(root) {\n  function now() {\n    return new Date();\n  }\n\n  var force = true;\n\n  if (typeof root._bokeh_onload_callbacks === \"undefined\" || force === true) {\n    root._bokeh_onload_callbacks = [];\n    root._bokeh_is_loading = undefined;\n  }\n\n  \n\n  \n  if (typeof (root._bokeh_timeout) === \"undefined\" || force === true) {\n    root._bokeh_timeout = Date.now() + 5000;\n    root._bokeh_failed_load = false;\n  }\n\n  var NB_LOAD_WARNING = {'data': {'text/html':\n     \"<div style='background-color: #fdd'>\\n\"+\n     \"<p>\\n\"+\n     \"BokehJS does not appear to have successfully loaded. If loading BokehJS from CDN, this \\n\"+\n     \"may be due to a slow or bad network connection. Possible fixes:\\n\"+\n     \"</p>\\n\"+\n     \"<ul>\\n\"+\n     \"<li>re-rerun `output_notebook()` to attempt to load from CDN again, or</li>\\n\"+\n     \"<li>use INLINE resources instead, as so:</li>\\n\"+\n     \"</ul>\\n\"+\n     \"<code>\\n\"+\n     \"from bokeh.resources import INLINE\\n\"+\n     \"output_notebook(resources=INLINE)\\n\"+\n     \"</code>\\n\"+\n     \"</div>\"}};\n\n  function display_loaded() {\n    var el = document.getElementById(\"1001\");\n    if (el != null) {\n      el.textContent = \"BokehJS is loading...\";\n    }\n    if (root.Bokeh !== undefined) {\n      if (el != null) {\n        el.textContent = \"BokehJS \" + root.Bokeh.version + \" successfully loaded.\";\n      }\n    } else if (Date.now() < root._bokeh_timeout) {\n      setTimeout(display_loaded, 100)\n    }\n  }\n\n\n  function run_callbacks() {\n    try {\n      root._bokeh_onload_callbacks.forEach(function(callback) {\n        if (callback != null)\n          callback();\n      });\n    } finally {\n      delete root._bokeh_onload_callbacks\n    }\n    console.debug(\"Bokeh: all callbacks have finished\");\n  }\n\n  function load_libs(css_urls, js_urls, callback) {\n    if (css_urls == null) css_urls = [];\n    if (js_urls == null) js_urls = [];\n\n    root._bokeh_onload_callbacks.push(callback);\n    if (root._bokeh_is_loading > 0) {\n      console.debug(\"Bokeh: BokehJS is being loaded, scheduling callback at\", now());\n      return null;\n    }\n    if (js_urls == null || js_urls.length === 0) {\n      run_callbacks();\n      return null;\n    }\n    console.debug(\"Bokeh: BokehJS not loaded, scheduling load and callback at\", now());\n    root._bokeh_is_loading = css_urls.length + js_urls.length;\n\n    function on_load() {\n      root._bokeh_is_loading--;\n      if (root._bokeh_is_loading === 0) {\n        console.debug(\"Bokeh: all BokehJS libraries/stylesheets loaded\");\n        run_callbacks()\n      }\n    }\n\n    function on_error() {\n      console.error(\"failed to load \" + url);\n    }\n\n    for (var i = 0; i < css_urls.length; i++) {\n      var url = css_urls[i];\n      const element = document.createElement(\"link\");\n      element.onload = on_load;\n      element.onerror = on_error;\n      element.rel = \"stylesheet\";\n      element.type = \"text/css\";\n      element.href = url;\n      console.debug(\"Bokeh: injecting link tag for BokehJS stylesheet: \", url);\n      document.body.appendChild(element);\n    }\n\n    const hashes = {\"https://cdn.bokeh.org/bokeh/release/bokeh-2.2.1.min.js\": \"qkRvDQVAIfzsJo40iRBbxt6sttt0hv4lh74DG7OK4MCHv4C5oohXYoHUM5W11uqS\", \"https://cdn.bokeh.org/bokeh/release/bokeh-widgets-2.2.1.min.js\": \"Sb7Mr06a9TNlet/GEBeKaf5xH3eb6AlCzwjtU82wNPyDrnfoiVl26qnvlKjmcAd+\", \"https://cdn.bokeh.org/bokeh/release/bokeh-tables-2.2.1.min.js\": \"HaJ15vgfmcfRtB4c4YBOI4f1MUujukqInOWVqZJZZGK7Q+ivud0OKGSTn/Vm2iso\"};\n\n    for (var i = 0; i < js_urls.length; i++) {\n      var url = js_urls[i];\n      var element = document.createElement('script');\n      element.onload = on_load;\n      element.onerror = on_error;\n      element.async = false;\n      element.src = url;\n      if (url in hashes) {\n        element.crossOrigin = \"anonymous\";\n        element.integrity = \"sha384-\" + hashes[url];\n      }\n      console.debug(\"Bokeh: injecting script tag for BokehJS library: \", url);\n      document.head.appendChild(element);\n    }\n  };\n\n  function inject_raw_css(css) {\n    const element = document.createElement(\"style\");\n    element.appendChild(document.createTextNode(css));\n    document.body.appendChild(element);\n  }\n\n  \n  var js_urls = [\"https://cdn.bokeh.org/bokeh/release/bokeh-2.2.1.min.js\", \"https://cdn.bokeh.org/bokeh/release/bokeh-widgets-2.2.1.min.js\", \"https://cdn.bokeh.org/bokeh/release/bokeh-tables-2.2.1.min.js\"];\n  var css_urls = [];\n  \n\n  var inline_js = [\n    function(Bokeh) {\n      Bokeh.set_log_level(\"info\");\n    },\n    function(Bokeh) {\n    \n    \n    }\n  ];\n\n  function run_inline_js() {\n    \n    if (root.Bokeh !== undefined || force === true) {\n      \n    for (var i = 0; i < inline_js.length; i++) {\n      inline_js[i].call(root, root.Bokeh);\n    }\n    if (force === true) {\n        display_loaded();\n      }} else if (Date.now() < root._bokeh_timeout) {\n      setTimeout(run_inline_js, 100);\n    } else if (!root._bokeh_failed_load) {\n      console.log(\"Bokeh: BokehJS failed to load within specified timeout.\");\n      root._bokeh_failed_load = true;\n    } else if (force !== true) {\n      var cell = $(document.getElementById(\"1001\")).parents('.cell').data().cell;\n      cell.output_area.append_execute_result(NB_LOAD_WARNING)\n    }\n\n  }\n\n  if (root._bokeh_is_loading === 0) {\n    console.debug(\"Bokeh: BokehJS loaded, going straight to plotting\");\n    run_inline_js();\n  } else {\n    load_libs(css_urls, js_urls, function() {\n      console.debug(\"Bokeh: BokehJS plotting callback run at\", now());\n      run_inline_js();\n    });\n  }\n}(window));"
     },
     "metadata": {},
     "output_type": "display_data"
    }
   ],
   "source": [
    "from bokeh.layouts import gridplot\n",
    "from bokeh.plotting import figure, output_notebook, show\n",
    "from bokeh.models import Span\n",
    "output_notebook()"
   ]
  },
  {
   "cell_type": "markdown",
   "metadata": {},
   "source": [
    "### Establishing upper limit of normal \n",
    "\n",
    "For this we'll need to identify control animals.  The `send_db` object has a useful function to get control animals.  \n",
    "\n",
    "After that we plot the log normal distrubtions of the "
   ]
  },
  {
   "cell_type": "code",
   "execution_count": 11,
   "metadata": {},
   "outputs": [
    {
     "data": {
      "text/html": [
       "<div>\n",
       "<style scoped>\n",
       "    .dataframe tbody tr th:only-of-type {\n",
       "        vertical-align: middle;\n",
       "    }\n",
       "\n",
       "    .dataframe tbody tr th {\n",
       "        vertical-align: top;\n",
       "    }\n",
       "\n",
       "    .dataframe thead th {\n",
       "        text-align: right;\n",
       "    }\n",
       "</style>\n",
       "<table border=\"1\" class=\"dataframe\">\n",
       "  <thead>\n",
       "    <tr style=\"text-align: right;\">\n",
       "      <th></th>\n",
       "      <th>STUDYID</th>\n",
       "      <th>ID</th>\n",
       "      <th>USUBJID</th>\n",
       "      <th>SPECIES</th>\n",
       "      <th>STRAIN</th>\n",
       "      <th>SEX</th>\n",
       "      <th>SETCD</th>\n",
       "      <th>TXVAL</th>\n",
       "      <th>ALT</th>\n",
       "      <th>BILI</th>\n",
       "    </tr>\n",
       "  </thead>\n",
       "  <tbody>\n",
       "    <tr>\n",
       "      <th>0</th>\n",
       "      <td>00086624</td>\n",
       "      <td>1</td>\n",
       "      <td>00086624-1001</td>\n",
       "      <td>RAT</td>\n",
       "      <td>SPRAGUE-DAWLEY</td>\n",
       "      <td>M</td>\n",
       "      <td>1M</td>\n",
       "      <td>Vehicle</td>\n",
       "      <td>58.0</td>\n",
       "      <td>0.0</td>\n",
       "    </tr>\n",
       "    <tr>\n",
       "      <th>1</th>\n",
       "      <td>00086624</td>\n",
       "      <td>1</td>\n",
       "      <td>00086624-1002</td>\n",
       "      <td>RAT</td>\n",
       "      <td>SPRAGUE-DAWLEY</td>\n",
       "      <td>M</td>\n",
       "      <td>1M</td>\n",
       "      <td>Vehicle</td>\n",
       "      <td>80.0</td>\n",
       "      <td>0.0</td>\n",
       "    </tr>\n",
       "    <tr>\n",
       "      <th>2</th>\n",
       "      <td>00086624</td>\n",
       "      <td>1</td>\n",
       "      <td>00086624-1003</td>\n",
       "      <td>RAT</td>\n",
       "      <td>SPRAGUE-DAWLEY</td>\n",
       "      <td>M</td>\n",
       "      <td>1M</td>\n",
       "      <td>Vehicle</td>\n",
       "      <td>85.0</td>\n",
       "      <td>0.1</td>\n",
       "    </tr>\n",
       "    <tr>\n",
       "      <th>3</th>\n",
       "      <td>00086624</td>\n",
       "      <td>1</td>\n",
       "      <td>00086624-1004</td>\n",
       "      <td>RAT</td>\n",
       "      <td>SPRAGUE-DAWLEY</td>\n",
       "      <td>M</td>\n",
       "      <td>1M</td>\n",
       "      <td>Vehicle</td>\n",
       "      <td>77.0</td>\n",
       "      <td>0.0</td>\n",
       "    </tr>\n",
       "    <tr>\n",
       "      <th>4</th>\n",
       "      <td>00086624</td>\n",
       "      <td>1</td>\n",
       "      <td>00086624-1005</td>\n",
       "      <td>RAT</td>\n",
       "      <td>SPRAGUE-DAWLEY</td>\n",
       "      <td>M</td>\n",
       "      <td>1M</td>\n",
       "      <td>Vehicle</td>\n",
       "      <td>82.0</td>\n",
       "      <td>0.1</td>\n",
       "    </tr>\n",
       "  </tbody>\n",
       "</table>\n",
       "</div>"
      ],
      "text/plain": [
       "    STUDYID  ID        USUBJID SPECIES          STRAIN SEX SETCD    TXVAL  \\\n",
       "0  00086624   1  00086624-1001     RAT  SPRAGUE-DAWLEY   M    1M  Vehicle   \n",
       "1  00086624   1  00086624-1002     RAT  SPRAGUE-DAWLEY   M    1M  Vehicle   \n",
       "2  00086624   1  00086624-1003     RAT  SPRAGUE-DAWLEY   M    1M  Vehicle   \n",
       "3  00086624   1  00086624-1004     RAT  SPRAGUE-DAWLEY   M    1M  Vehicle   \n",
       "4  00086624   1  00086624-1005     RAT  SPRAGUE-DAWLEY   M    1M  Vehicle   \n",
       "\n",
       "    ALT  BILI  \n",
       "0  58.0   0.0  \n",
       "1  80.0   0.0  \n",
       "2  85.0   0.1  \n",
       "3  77.0   0.0  \n",
       "4  82.0   0.1  "
      ]
     },
     "execution_count": 11,
     "metadata": {},
     "output_type": "execute_result"
    }
   ],
   "source": [
    "control_animals = send_db.get_control_animals().merge(animals)\n",
    "control_animals_data = control_animals.merge(data)\n",
    "control_animals_data.head()"
   ]
  },
  {
   "cell_type": "code",
   "execution_count": 12,
   "metadata": {},
   "outputs": [],
   "source": [
    "def make_histogram(data, title, n_bins=100):\n",
    "    \"\"\" make a bokeh histogram from a log normal distribution \"\"\"\n",
    "    import numpy as np\n",
    "    from scipy.stats import lognorm\n",
    "    \n",
    "    hist, edges = np.histogram(data, density=True, bins=n_bins)\n",
    "    f = figure(tools='box_zoom', background_fill_color=\"#fafafa\", title=title)\n",
    "    f.quad(top=hist, bottom=0, left=edges[:-1], right=edges[1:], fill_color=\"navy\", line_color=\"white\", alpha=0.5)\n",
    "\n",
    "    # lognormal distribution \n",
    "    s, loc, scale =  lognorm.fit(data, floc=0)\n",
    "    xmin = data.min()\n",
    "    xmax = data.max()\n",
    "    x = np.linspace(xmin, xmax, 100)\n",
    "    pdf = lognorm.pdf(x, s, scale=scale)\n",
    "    \n",
    "    max_95 = lognorm.ppf(0.95, s, scale=scale)\n",
    "    f.line(x, pdf, line_color=\"#ff8888\", line_width=4, alpha=0.7, legend_label=\"PDF\")\n",
    "    vline = Span(location=max_95, dimension='height', line_dash='dotdash', line_color=\"black\", line_alpha=0.7, line_width=3)\n",
    "    f.line([], [], legend_label='ULN', line_dash='dotdash', line_color=\"black\", line_alpha=0.7, line_width=3)\n",
    "    f.renderers.extend([vline])\n",
    "    return f , max_95"
   ]
  },
  {
   "cell_type": "code",
   "execution_count": 13,
   "metadata": {},
   "outputs": [
    {
     "data": {
      "text/html": [
       "\n",
       "\n",
       "\n",
       "\n",
       "\n",
       "\n",
       "  <div class=\"bk-root\" id=\"2c44fb87-7951-4b5c-81b1-445e7d7b1a0c\" data-root-id=\"1313\"></div>\n"
      ]
     },
     "metadata": {},
     "output_type": "display_data"
    },
    {
     "data": {
      "application/javascript": [
       "(function(root) {\n",
       "  function embed_document(root) {\n",
       "    \n",
       "  var docs_json = {\"cdece579-5dc9-4efe-a5c9-5e8149fe99ce\":{\"roots\":{\"references\":[{\"attributes\":{\"children\":[{\"id\":\"1312\"},{\"id\":\"1310\"}]},\"id\":\"1313\",\"type\":\"Column\"},{\"attributes\":{\"bottom\":{\"value\":0},\"fill_alpha\":{\"value\":0.1},\"fill_color\":{\"value\":\"navy\"},\"left\":{\"field\":\"left\"},\"line_alpha\":{\"value\":0.1},\"line_color\":{\"value\":\"white\"},\"right\":{\"field\":\"right\"},\"top\":{\"field\":\"top\"}},\"id\":\"1155\",\"type\":\"Quad\"},{\"attributes\":{\"overlay\":{\"id\":\"1150\"}},\"id\":\"1149\",\"type\":\"BoxZoomTool\"},{\"attributes\":{\"formatter\":{\"id\":\"1230\"},\"ticker\":{\"id\":\"1210\"}},\"id\":\"1209\",\"type\":\"LinearAxis\"},{\"attributes\":{},\"id\":\"1011\",\"type\":\"LinearScale\"},{\"attributes\":{\"bottom\":{\"value\":0},\"fill_alpha\":{\"value\":0.5},\"fill_color\":{\"value\":\"navy\"},\"left\":{\"field\":\"left\"},\"line_alpha\":{\"value\":0.5},\"line_color\":{\"value\":\"white\"},\"right\":{\"field\":\"right\"},\"top\":{\"field\":\"top\"}},\"id\":\"1218\",\"type\":\"Quad\"},{\"attributes\":{\"data_source\":{\"id\":\"1158\"},\"glyph\":{\"id\":\"1159\"},\"hover_glyph\":null,\"muted_glyph\":null,\"nonselection_glyph\":{\"id\":\"1160\"},\"selection_glyph\":null,\"view\":{\"id\":\"1162\"}},\"id\":\"1161\",\"type\":\"GlyphRenderer\"},{\"attributes\":{\"axis\":{\"id\":\"1209\"},\"dimension\":1,\"ticker\":null},\"id\":\"1212\",\"type\":\"Grid\"},{\"attributes\":{},\"id\":\"1170\",\"type\":\"UnionRenderers\"},{\"attributes\":{\"bottom\":{\"value\":0},\"fill_alpha\":{\"value\":0.5},\"fill_color\":{\"value\":\"navy\"},\"left\":{\"field\":\"left\"},\"line_alpha\":{\"value\":0.5},\"line_color\":{\"value\":\"white\"},\"right\":{\"field\":\"right\"},\"top\":{\"field\":\"top\"}},\"id\":\"1154\",\"type\":\"Quad\"},{\"attributes\":{\"source\":{\"id\":\"1153\"}},\"id\":\"1157\",\"type\":\"CDSView\"},{\"attributes\":{},\"id\":\"1192\",\"type\":\"UnionRenderers\"},{\"attributes\":{\"axis\":{\"id\":\"1205\"},\"ticker\":null},\"id\":\"1208\",\"type\":\"Grid\"},{\"attributes\":{\"text\":\"BILI - Male\"},\"id\":\"1131\",\"type\":\"Title\"},{\"attributes\":{},\"id\":\"1166\",\"type\":\"BasicTickFormatter\"},{\"attributes\":{\"label\":{\"value\":\"ULN\"},\"renderers\":[{\"id\":\"1179\"}]},\"id\":\"1193\",\"type\":\"LegendItem\"},{\"attributes\":{\"data\":{\"left\":{\"__ndarray__\":\"/Knx0k1iUD+gPCzUmuaNPwAi/fZ14Jw/2BLyQc9mpT+wlGWIY12sP0SLbOf7qbE/MEymCkYltT8cDeAtkKC4PwjOGVHaG7w/9I5TdCSXvz/wp8ZLN4nBP2aIY13cRsM/3GgAb4EExT9SSZ2AJsLGP8gpOpLLf8g/PgrXo3A9yj+06nO1FfvLPyrLEMe6uM0/oKut2F92zz8LRiV1AprQP0a28/3UeNE/gSbChqdX0j+8lpAPejbTP/cGX5hMFdQ/MnctIR/01D9t5/up8dLVP6hXyjLEsdY/48eYu5aQ1z8eOGdEaW/YP1moNc07Ttk/lBgEVg4t2j/PiNLe4AvbPwr5oGez6ts/RWlv8IXJ3D+A2T15WKjdP7tJDAIrh94/9rnaiv1l3z8ZldQJaCLgPzbNO07RkeA/UwWjkjoB4T9xPQrXo3DhP491cRsN4OE/rK3YX3ZP4j/J5T+k377iP+cdp+hILuM/BVYOLbKd4z8ijnVxGw3kPz/G3LWEfOQ/Xf5D+u3r5D97Nqs+V1vlPw==\",\"dtype\":\"float64\",\"order\":\"little\",\"shape\":[50]},\"right\":{\"__ndarray__\":\"oDws1JrmjT8AIv32deCcP9gS8kHPZqU/sJRliGNdrD9Ei2zn+6mxPzBMpgpGJbU/HA3gLZCguD8IzhlR2hu8P/SOU3Qkl78/8KfGSzeJwT9miGNd3EbDP9xoAG+BBMU/UkmdgCbCxj/IKTqSy3/IPz4K16NwPco/tOpztRX7yz8qyxDHurjNP6Crrdhfds8/C0YldQKa0D9GtvP91HjRP4EmwoanV9I/vJaQD3o20z/3Bl+YTBXUPzJ3LSEf9NQ/bef7qfHS1T+oV8oyxLHWP+PHmLuWkNc/HjhnRGlv2D9ZqDXNO07ZP5QYBFYOLdo/z4jS3uAL2z8K+aBns+rbP0Vpb/CFydw/gNk9eVio3T+7SQwCK4feP/a52or9Zd8/GZXUCWgi4D82zTtO0ZHgP1MFo5I6AeE/cT0K16Nw4T+PdXEbDeDhP6yt2F92T+I/yeU/pN++4j/nHafoSC7jPwVWDi2yneM/Io51cRsN5D8/xty1hHzkP13+Q/rt6+Q/ezarPldb5T+YbhKDwMrlPw==\",\"dtype\":\"float64\",\"order\":\"little\",\"shape\":[50]},\"top\":{\"__ndarray__\":\"mO03VMLLFUAz1sWm9pbxP8ETrx/+eAhAYWXuRB06AkAO9+vjit3/P/t0OmP6BwVA4kAFers3+D9u+G/zxfFAQLZBTHoojfw/CNcMp2Ps9T9xfu7ywhnvP6O/mvmXtwFAtkFMeiiN7D+FIrQ9bvHmPxVVQwOokiVAzOURxdNk1D/BE68f/njYP8ETrx/+eMg/tkFMeiiNzD/Xt3RqqVDQP9e3dGqpUMA/wROvH/54uD9PmmouyV/jP9e3dGqpUKA/17d0aqlQwD/M5RHF02S0P8ETrx/+eLg/17d0aqlQoD/BE68f/nioP8ETrx/+eKg/17d0aqlQsD/Xt3RqqVCQP9e3dGqpUJA/17d0aqlQoD8AAAAAAAAAANe3dGqpUJA/w7d0aqlQoD/pt3RqqVCQPwAAAAAAAAAAAAAAAAAAAAAAAAAAAAAAAAAAAAAAAAAAAAAAAAAAAAAAAAAAAAAAAAAAAAAAAAAAAAAAAAAAAAAAAAAAAAAAAMO3dGqpUJA/AAAAAAAAAADpt3RqqVCQPw==\",\"dtype\":\"float64\",\"order\":\"little\",\"shape\":[50]}},\"selected\":{\"id\":\"1233\"},\"selection_policy\":{\"id\":\"1234\"}},\"id\":\"1217\",\"type\":\"ColumnDataSource\"},{\"attributes\":{},\"id\":\"1128\",\"type\":\"UnionRenderers\"},{\"attributes\":{\"line_alpha\":0.7,\"line_color\":\"#ff8888\",\"line_width\":4,\"x\":{\"field\":\"x\"},\"y\":{\"field\":\"y\"}},\"id\":\"1159\",\"type\":\"Line\"},{\"attributes\":{},\"id\":\"1206\",\"type\":\"BasicTicker\"},{\"attributes\":{},\"id\":\"1191\",\"type\":\"Selection\"},{\"attributes\":{\"data_source\":{\"id\":\"1153\"},\"glyph\":{\"id\":\"1154\"},\"hover_glyph\":null,\"muted_glyph\":null,\"nonselection_glyph\":{\"id\":\"1155\"},\"selection_glyph\":null,\"view\":{\"id\":\"1157\"}},\"id\":\"1156\",\"type\":\"GlyphRenderer\"},{\"attributes\":{\"formatter\":{\"id\":\"1166\"},\"ticker\":{\"id\":\"1146\"}},\"id\":\"1145\",\"type\":\"LinearAxis\"},{\"attributes\":{},\"id\":\"1210\",\"type\":\"BasicTicker\"},{\"attributes\":{\"line_alpha\":0.1,\"line_dash\":[2,4,6,4],\"line_width\":3,\"x\":{\"field\":\"x\"},\"y\":{\"field\":\"y\"}},\"id\":\"1178\",\"type\":\"Line\"},{\"attributes\":{},\"id\":\"1127\",\"type\":\"Selection\"},{\"attributes\":{\"axis\":{\"id\":\"1145\"},\"dimension\":1,\"ticker\":null},\"id\":\"1148\",\"type\":\"Grid\"},{\"attributes\":{\"formatter\":{\"id\":\"1228\"},\"ticker\":{\"id\":\"1206\"}},\"id\":\"1205\",\"type\":\"LinearAxis\"},{\"attributes\":{\"formatter\":{\"id\":\"1036\"},\"ticker\":{\"id\":\"1014\"}},\"id\":\"1013\",\"type\":\"LinearAxis\"},{\"attributes\":{\"source\":{\"id\":\"1176\"}},\"id\":\"1180\",\"type\":\"CDSView\"},{\"attributes\":{\"data\":{\"left\":{\"__ndarray__\":\"/Knx0k1iUD+amZmZmZmZP0oMAiuHFqk/5KWbxCCwsj+iRbbz/dS4P2Dl0CLb+b4/kML1KFyPwj9vEoPAyqHFP05iEFg5tMg/LbKd76fGyz8MAiuHFtnOP/YoXI/C9dA/5tAi2/l+0j/VeOkmMQjUP8UgsHJokdU/tMh2vp8a1z+kcD0K16PYP5QYBFYOLdo/g8DKoUW22z9zaJHtfD/dP2IQWDm0yN4/KVyPwvUo4D8hsHJoke3gPxkEVg4tsuE/EVg5tMh24j8IrBxaZDvjPwAAAAAAAOQ/+FPjpZvE5D/wp8ZLN4nlP+j7qfHSTeY/30+Nl24S5z/Xo3A9CtfnP8/3U+Olm+g/x0s3iUFg6T+/nxov3STqP7bz/dR46eo/rkfhehSu6z+mm8QgsHLsP57vp8ZLN+0/lkOLbOf77T+Nl24Sg8DuP4XrUbgehe8/vp8aL90k8D+6SQwCK4fwP7bz/dR46fA/sp3vp8ZL8T+uR+F6FK7xP6rx0k1iEPI/ppvEILBy8j+hRbbz/dTyPw==\",\"dtype\":\"float64\",\"order\":\"little\",\"shape\":[50]},\"right\":{\"__ndarray__\":\"mpmZmZmZmT9KDAIrhxapP+Slm8QgsLI/okW28/3UuD9g5dAi2/m+P5DC9Shcj8I/bxKDwMqhxT9OYhBYObTIPy2yne+nxss/DAIrhxbZzj/2KFyPwvXQP+bQItv5ftI/1XjpJjEI1D/FILByaJHVP7TIdr6fGtc/pHA9Ctej2D+UGARWDi3aP4PAyqFFtts/c2iR7Xw/3T9iEFg5tMjePylcj8L1KOA/IbByaJHt4D8ZBFYOLbLhPxFYObTIduI/CKwcWmQ74z8AAAAAAADkP/hT46WbxOQ/8KfGSzeJ5T/o+6nx0k3mP99PjZduEuc/16NwPQrX5z/P91PjpZvoP8dLN4lBYOk/v58aL90k6j+28/3UeOnqP65H4XoUrus/ppvEILBy7D+e76fGSzftP5ZDi2zn++0/jZduEoPA7j+F61G4HoXvP76fGi/dJPA/ukkMAiuH8D+28/3UeOnwP7Kd76fGS/E/rkfhehSu8T+q8dJNYhDyP6abxCCwcvI/oUW28/3U8j+d76fGSzfzPw==\",\"dtype\":\"float64\",\"order\":\"little\",\"shape\":[50]},\"top\":{\"__ndarray__\":\"QKUhFncIFkBdrmPFoaICQFpTbLSaBwhAjOAMufmO9j/Yd1MJfL41QMHclW6V+vY/oTTlStiy9j9ofVj9iRnYPz01tGB4ZAtAt825RASpyD9xjDQnG2u2P3GMNCcba6Y/YG580/jHyT/uDj9i7eaaPwAPP2Lt5qo/cYw0Jxtrpj/uDj9i7eaqPwAPP2Lt5qo/9Akq7EjvgT8ACirsSO+BP3GMNCcba6Y/9Akq7EjvkT9xjDQnG2umPwAAAAAAAAAACwoq7EjvkT/0CSrsSO+BP/QJKuxI74E/9Akq7EjvkT/0CSrsSO+BPwAAAAAAAAAA7g4/Yu3mmj/0CSrsSO+BPwAAAAAAAAAA9Akq7EjvgT8LCirsSO+BPwAAAAAAAAAAAAAAAAAAAAAAAAAAAAAAAPQJKuxI74E/AAAAAAAAAAAAAAAAAAAAAAAAAAAAAAAA9Akq7EjvgT8AAAAAAAAAAAAAAAAAAAAAAAAAAAAAAAAAAAAAAAAAAAAAAAAAAAAAAAAAAAAAAAD0CSrsSO+BPw==\",\"dtype\":\"float64\",\"order\":\"little\",\"shape\":[50]}},\"selected\":{\"id\":\"1169\"},\"selection_policy\":{\"id\":\"1170\"}},\"id\":\"1153\",\"type\":\"ColumnDataSource\"},{\"attributes\":{\"data\":{\"x\":{\"__ndarray__\":\"/Knx0k1iUD8STo5HS9+KP3MzX2om2Zk/7p97mFMhoz8jpsf7E1apP1isE1/Uiq8/RtkvYcrfsj9h3NWSKvq1P3vfe8SKFLk/leIh9uouvD+w5ccnS0m/P2X0tqzVMcE/8vWJxQW/wj9/91zeNUzEPw35L/dl2cU/mvoCEJZmxz8n/NUoxvPIP7T9qEH2gMo/Qf97WiYOzD/PAE9zVpvNP1wCIoyGKM8/9IF6Utta0D+7AuRecyHRP4KDTWsL6NE/SAS3d6Ou0j8PhSCEO3XTP9UFipDTO9Q/nIbznGsC1T9jB12pA8nVPymIxrWbj9Y/8AgwwjNW1z+2iZnOyxzYP30KA9tj49g/RIts5/up2T8KDNbzk3DaP9GMPwAsN9s/lw2pDMT92z9ejhIZXMTcPyUPfCX0it0/64/lMYxR3j+yEE8+JBjfP3iRuEq83t8/HwmRK6pS4D+DycUx9rXgP+aJ+jdCGeE/SUovPo584T+tCmRE2t/hPxDLmEomQ+I/c4vNUHKm4j/XSwJXvgnjPzoMN10KbeM/ncxrY1bQ4z8AjaBpojPkP2RN1W/uluQ/xw0Kdjr65D8qzj58hl3lP46Oc4LSwOU/8U6oiB4k5j9UD92OaofmP7jPEZW26uY/G5BGmwJO5z9+UHuhTrHnP+EQsKeaFOg/RdHkreZ36D+okRm0MtvoPwtSTrp+Puk/bxKDwMqh6T/S0rfGFgXqPzWT7MxiaOo/mFMh067L6j/8E1bZ+i7rP1/Uit9Gkus/wpS/5ZL16z8mVfTr3ljsP4kVKfIqvOw/7NVd+HYf7T9QlpL+woLtP7NWxwQP5u0/Fhf8CltJ7j951zARp6zuP92XZRfzD+8/QFiaHT9z7z+jGM8ji9bvP4PsAZXrHPA/tEwcmJFO8D/mrDabN4DwPxgNUZ7dsfA/SW1roYPj8D97zYWkKRXxP60toKfPRvE/3o26qnV48T8Q7tStG6rxP0JO77DB2/E/c64JtGcN8j+lDiS3DT/yP9duPrqzcPI/CM9YvVmi8j86L3PA/9PyP2yPjcOlBfM/ne+nxks38z8=\",\"dtype\":\"float64\",\"order\":\"little\",\"shape\":[100]},\"y\":{\"__ndarray__\":\"Lb67tPESEEDdoRUml18nQIPrHFf0JSJAZBXwUAwrHEDVxXTZhGkWQAjODav6PxJAbW7Cm39MDkDExROAuY0JQFxZKGiW1gVA1XVte07fAkD4NB2VH3cAQDX1b+Hr9/w/UnQP08qq+T8Q0BjaEuP2PxMXjwEJhvQ/mP9c4F1/8j9VRRGGZr/wP/ez6l3Fc+4/1hwAI0DK6z+mz2y4uHLpP7KX6n6kYOc/SpXDG8mJ5T+Oj0h5veXjP8JBIJmJbeI/a79o7Fwb4T/oAYasqtTfP+vDi0+lrN0/e/l2F6e32z+cTgBQs+/ZP1HFzZumT9g/WdZs+hLT1j/dmimVInbVP8KkBeZ/NdQ/FIlfIEIO0z/Cmf8B3f3RP9B37mITAtE/9sXI/usY0D8RTTocUIHOP/0bzLd278w/yKbaJ4t5yz9mMgIoGR3KP/2XZSjv18g/fdsJBRaoxz8bAt3pyYvGP3iRoTN0gcU/rJZaJqaHxD/uVZtYFJ3DP+X8nriSwMI/yyCKFBHxwT/UReUSmC3BP+XdZYtGdcA/Qok0ZZ6Ovz/3gT0a7UW+P5W5c0EiD70/I21btgPpuz/L1X5PcdK6P6bG71piyrk/DZv1YePPuD/WXxArFOK3P6ZdsfIlALc/8IoR1Fkptj8KmG9c/1y1P9+Ov0NzmrQ/3JV6Rh7hsz9SoMocdDCzPw1Nx4vyh7I/pujhjSDnsT/++/iPjU2xPzQd2sDQurA/Uag8cYgusD8PIPYEs1CvP7XHB8XdT64/kxBRJ/JZrT9Jri1+W26sP7hv2qGOjKs/LsPtOQm0qj+h53AWUeSpP2nBGJfzHKk/g19GH4VdqD88iJuVoKWnP2e5D+7m9KY/LHKOvf5Kpj8p0UDWk6elP5HyuutWCqU/zmJZPv1ypD8/tCxNQOGjP1MW4Y3dVKM/NOkdKpbNoj/76OXBLkuiPz3WizJvzaE/yqHZYSJUoT8ANxENFt+gP/sndpsabqA/oNYW9AIBoD89nSStSC+fPyD1O22sY54/nHYnNOSenT89h6vypuCcPw/5s0OvKJw/Z1tlNbt2mz8=\",\"dtype\":\"float64\",\"order\":\"little\",\"shape\":[100]}},\"selected\":{\"id\":\"1171\"},\"selection_policy\":{\"id\":\"1172\"}},\"id\":\"1158\",\"type\":\"ColumnDataSource\"},{\"attributes\":{\"data_source\":{\"id\":\"1176\"},\"glyph\":{\"id\":\"1177\"},\"hover_glyph\":null,\"muted_glyph\":null,\"nonselection_glyph\":{\"id\":\"1178\"},\"selection_glyph\":null,\"view\":{\"id\":\"1180\"}},\"id\":\"1179\",\"type\":\"GlyphRenderer\"},{\"attributes\":{\"axis\":{\"id\":\"1141\"},\"ticker\":null},\"id\":\"1144\",\"type\":\"Grid\"},{\"attributes\":{},\"id\":\"1169\",\"type\":\"Selection\"},{\"attributes\":{},\"id\":\"1203\",\"type\":\"LinearScale\"},{\"attributes\":{},\"id\":\"1014\",\"type\":\"BasicTicker\"},{\"attributes\":{\"bottom_units\":\"screen\",\"fill_alpha\":0.5,\"fill_color\":\"lightgrey\",\"left_units\":\"screen\",\"level\":\"overlay\",\"line_alpha\":1.0,\"line_color\":\"black\",\"line_dash\":[4,4],\"line_width\":2,\"right_units\":\"screen\",\"top_units\":\"screen\"},\"id\":\"1150\",\"type\":\"BoxAnnotation\"},{\"attributes\":{\"line_alpha\":0.7,\"line_color\":\"#ff8888\",\"line_width\":4,\"x\":{\"field\":\"x\"},\"y\":{\"field\":\"y\"}},\"id\":\"1031\",\"type\":\"Line\"},{\"attributes\":{},\"id\":\"1142\",\"type\":\"BasicTicker\"},{\"attributes\":{\"text\":\"BILI - Female\"},\"id\":\"1195\",\"type\":\"Title\"},{\"attributes\":{},\"id\":\"1146\",\"type\":\"BasicTicker\"},{\"attributes\":{},\"id\":\"1171\",\"type\":\"Selection\"},{\"attributes\":{\"formatter\":{\"id\":\"1164\"},\"ticker\":{\"id\":\"1142\"}},\"id\":\"1141\",\"type\":\"LinearAxis\"},{\"attributes\":{},\"id\":\"1007\",\"type\":\"DataRange1d\"},{\"attributes\":{\"dimension\":\"height\",\"line_alpha\":0.7,\"line_dash\":[2,4,6,4],\"line_width\":3,\"location\":0.6462317136499636},\"id\":\"1175\",\"type\":\"Span\"},{\"attributes\":{},\"id\":\"1139\",\"type\":\"LinearScale\"},{\"attributes\":{\"data\":{\"x\":[],\"y\":[]},\"selected\":{\"id\":\"1191\"},\"selection_policy\":{\"id\":\"1192\"}},\"id\":\"1176\",\"type\":\"ColumnDataSource\"},{\"attributes\":{\"line_alpha\":0.7,\"line_dash\":[2,4,6,4],\"line_width\":3,\"x\":{\"field\":\"x\"},\"y\":{\"field\":\"y\"}},\"id\":\"1177\",\"type\":\"Line\"},{\"attributes\":{\"items\":[{\"id\":\"1174\"},{\"id\":\"1193\"}]},\"id\":\"1173\",\"type\":\"Legend\"},{\"attributes\":{},\"id\":\"1201\",\"type\":\"LinearScale\"},{\"attributes\":{},\"id\":\"1199\",\"type\":\"DataRange1d\"},{\"attributes\":{},\"id\":\"1137\",\"type\":\"LinearScale\"},{\"attributes\":{},\"id\":\"1164\",\"type\":\"BasicTickFormatter\"},{\"attributes\":{},\"id\":\"1172\",\"type\":\"UnionRenderers\"},{\"attributes\":{},\"id\":\"1135\",\"type\":\"DataRange1d\"},{\"attributes\":{},\"id\":\"1197\",\"type\":\"DataRange1d\"},{\"attributes\":{\"bottom\":{\"value\":0},\"fill_alpha\":{\"value\":0.5},\"fill_color\":{\"value\":\"navy\"},\"left\":{\"field\":\"left\"},\"line_alpha\":{\"value\":0.5},\"line_color\":{\"value\":\"white\"},\"right\":{\"field\":\"right\"},\"top\":{\"field\":\"top\"}},\"id\":\"1026\",\"type\":\"Quad\"},{\"attributes\":{\"active_drag\":\"auto\",\"active_inspect\":\"auto\",\"active_multi\":null,\"active_scroll\":\"auto\",\"active_tap\":\"auto\",\"tools\":[{\"id\":\"1149\"}]},\"id\":\"1151\",\"type\":\"Toolbar\"},{\"attributes\":{},\"id\":\"1005\",\"type\":\"DataRange1d\"},{\"attributes\":{\"children\":[[{\"id\":\"1002\"},0,0],[{\"id\":\"1066\"},0,1],[{\"id\":\"1130\"},1,0],[{\"id\":\"1194\"},1,1]]},\"id\":\"1310\",\"type\":\"GridBox\"},{\"attributes\":{},\"id\":\"1133\",\"type\":\"DataRange1d\"},{\"attributes\":{\"line_alpha\":0.1,\"line_color\":\"#ff8888\",\"line_width\":4,\"x\":{\"field\":\"x\"},\"y\":{\"field\":\"y\"}},\"id\":\"1160\",\"type\":\"Line\"},{\"attributes\":{\"label\":{\"value\":\"PDF\"},\"renderers\":[{\"id\":\"1161\"}]},\"id\":\"1174\",\"type\":\"LegendItem\"},{\"attributes\":{\"source\":{\"id\":\"1158\"}},\"id\":\"1162\",\"type\":\"CDSView\"},{\"attributes\":{\"line_alpha\":0.7,\"line_color\":\"#ff8888\",\"line_width\":4,\"x\":{\"field\":\"x\"},\"y\":{\"field\":\"y\"}},\"id\":\"1223\",\"type\":\"Line\"},{\"attributes\":{\"line_alpha\":0.1,\"line_color\":\"#ff8888\",\"line_width\":4,\"x\":{\"field\":\"x\"},\"y\":{\"field\":\"y\"}},\"id\":\"1032\",\"type\":\"Line\"},{\"attributes\":{\"data_source\":{\"id\":\"1240\"},\"glyph\":{\"id\":\"1241\"},\"hover_glyph\":null,\"muted_glyph\":null,\"nonselection_glyph\":{\"id\":\"1242\"},\"selection_glyph\":null,\"view\":{\"id\":\"1244\"}},\"id\":\"1243\",\"type\":\"GlyphRenderer\"},{\"attributes\":{\"source\":{\"id\":\"1048\"}},\"id\":\"1052\",\"type\":\"CDSView\"},{\"attributes\":{},\"id\":\"1107\",\"type\":\"Selection\"},{\"attributes\":{\"formatter\":{\"id\":\"1102\"},\"ticker\":{\"id\":\"1082\"}},\"id\":\"1081\",\"type\":\"LinearAxis\"},{\"attributes\":{\"data_source\":{\"id\":\"1048\"},\"glyph\":{\"id\":\"1049\"},\"hover_glyph\":null,\"muted_glyph\":null,\"nonselection_glyph\":{\"id\":\"1050\"},\"selection_glyph\":null,\"view\":{\"id\":\"1052\"}},\"id\":\"1051\",\"type\":\"GlyphRenderer\"},{\"attributes\":{\"axis\":{\"id\":\"1081\"},\"dimension\":1,\"ticker\":null},\"id\":\"1084\",\"type\":\"Grid\"},{\"attributes\":{\"formatter\":{\"id\":\"1038\"},\"ticker\":{\"id\":\"1018\"}},\"id\":\"1017\",\"type\":\"LinearAxis\"},{\"attributes\":{\"bottom\":{\"value\":0},\"fill_alpha\":{\"value\":0.1},\"fill_color\":{\"value\":\"navy\"},\"left\":{\"field\":\"left\"},\"line_alpha\":{\"value\":0.1},\"line_color\":{\"value\":\"white\"},\"right\":{\"field\":\"right\"},\"top\":{\"field\":\"top\"}},\"id\":\"1091\",\"type\":\"Quad\"},{\"attributes\":{\"source\":{\"id\":\"1240\"}},\"id\":\"1244\",\"type\":\"CDSView\"},{\"attributes\":{\"axis\":{\"id\":\"1077\"},\"ticker\":null},\"id\":\"1080\",\"type\":\"Grid\"},{\"attributes\":{\"line_alpha\":0.7,\"line_color\":\"#ff8888\",\"line_width\":4,\"x\":{\"field\":\"x\"},\"y\":{\"field\":\"y\"}},\"id\":\"1095\",\"type\":\"Line\"},{\"attributes\":{\"data_source\":{\"id\":\"1112\"},\"glyph\":{\"id\":\"1113\"},\"hover_glyph\":null,\"muted_glyph\":null,\"nonselection_glyph\":{\"id\":\"1114\"},\"selection_glyph\":null,\"view\":{\"id\":\"1116\"}},\"id\":\"1115\",\"type\":\"GlyphRenderer\"},{\"attributes\":{\"data_source\":{\"id\":\"1089\"},\"glyph\":{\"id\":\"1090\"},\"hover_glyph\":null,\"muted_glyph\":null,\"nonselection_glyph\":{\"id\":\"1091\"},\"selection_glyph\":null,\"view\":{\"id\":\"1093\"}},\"id\":\"1092\",\"type\":\"GlyphRenderer\"},{\"attributes\":{\"source\":{\"id\":\"1112\"}},\"id\":\"1116\",\"type\":\"CDSView\"},{\"attributes\":{\"data_source\":{\"id\":\"1030\"},\"glyph\":{\"id\":\"1031\"},\"hover_glyph\":null,\"muted_glyph\":null,\"nonselection_glyph\":{\"id\":\"1032\"},\"selection_glyph\":null,\"view\":{\"id\":\"1034\"}},\"id\":\"1033\",\"type\":\"GlyphRenderer\"},{\"attributes\":{\"data\":{\"x\":{\"__ndarray__\":\"AAAAAAAAKEAIH3zwwQcvQAgffPDBBzNAjC666KKLNkAQPvjggw86QJNNNtlkkz1AjC666KKLQEBONtlkk01CQBA++OCDD0RA0kUXXXTRRUCTTTbZZJNHQFVVVVVVVUlAF1100UUXS0DZZJNNNtlMQJtssskmm05ALrrooosuUEAQPvjggw9RQPDBBx988FFA0kUXXXTRUkCyySabbLJTQJNNNtlkk1RAdNFFF110VUBVVVVVVVVWQDbZZJNNNldAF1100UUXWED44IMPPvhYQNlkk0022VlAuuiiiy66WkCbbLLJJptbQHzwwQcffFxAXXTRRRddXUA++OCDDz5eQB988MEHH19AAAAAAAAAYEDwwQcffHBgQOGDDz744GBA0kUXXXRRYUDCBx988MFhQLLJJptsMmJAo4suuuiiYkCTTTbZZBNjQIQPPvjgg2NAdNFFF130Y0Blk0022WRkQFVVVVVV1WRARhdddNFFZUA22WSTTbZlQCebbLLJJmZAF1100UWXZkAIH3zwwQdnQPjggw8+eGdA6aKLLrroZ0DZZJNNNlloQMomm2yyyWhAuuiiiy46aUCrqqqqqqppQJtssskmG2pAjC666KKLakB88MEHH/xqQG2yySabbGtAXXTRRRfda0BONtlkk01sQD744IMPvmxAL7rooosubUAffPDBB59tQA8++OCDD25AAAAAAACAbkDwwQcffPBuQOGDDz74YG9A0UUXXXTRb0Dhgw8++CBwQNlkk002WXBA0kUXXXSRcEDKJptssslwQMIHH3zwAXFAuuiiiy46cUCyySabbHJxQKuqqqqqqnFAo4suuujicUCbbLLJJhtyQJNNNtlkU3JAjC666KKLckCEDz744MNyQHzwwQcf/HJAdNFFF100c0Btsskmm2xzQGWTTTbZpHNAXXTRRRfdc0BVVVVVVRV0QE422WSTTXRARhdddNGFdEA++OCDD750QDbZZJNN9nRAL7rooosudUAnm2yyyWZ1QB988MEHn3VAF1100UXXdUAPPvjggw92QAgffPDBR3ZAAAAAAACAdkA=\",\"dtype\":\"float64\",\"order\":\"little\",\"shape\":[100]},\"y\":{\"__ndarray__\":\"d7E2+/H4bz/uF+0zV6+HP1MkB12QQZU/3yajGPGjnD85SwFvCSagP3syq6L4M6A/1S4U5TUGnj+zefEHvE2aPyII7dtmI5Y/Ef+i3ecYkj8QR6pGUPaMP6Kt/d4x0IY/iBKU8GrDgT+vcf5lOG57PzW2bzRKDXU/kt+lxLgWcD8b6npZ6YVoP6184eyIqGI/w+CoGKleXD9vJUKd0pBVPyFmI/CaZlA/D1vUmLr3SD/cPdK4LAdDPz//PAvXCz0/jOhYbSQ1Nj8sNF4k1QIxP7+Y7b0ZHSo/NqHj/wgWJD8/zKtHrvcePwivggL/7Bc/SbbyxxaHEj8/irOG+8IMP9GGzPdZYAY/Go8W2Q1zAT/LJOg3P0f7Pt7s2fsYX/U+ZW2dVVHI8D4zfAnKF2vqPhlprXU31+Q+iP5bKEl64D6cKrhcOB3aPvJH6qoTvdQ+n6jjmFqB0D5hRpwjE1TKPuaiOKoKC8U+2fU0eI7awD7zXBl+Sw27PmQNkOgRwbU+p/j1dk2HsT6xldFPZk2sPrV7npGR5KY+v89Li1iNoj4ZM4fV4x+ePgmOtryYgJg+V0mNswz3kz6IKPNn60uQPsIYDox5poo+Dk+l6vzThT7+SV+GheiBPh1xvQLdbn0+KFoWjfA5eD4ydTqr6vhzPn58HjizfXA+gm5gC1xGaz4tRSBZ2pZmPt7SgVuFvGI+DGHNvXQgXz4CzGwPgORZPuf2TU+okVU+qVwHwQf+UT7Hrx8E+w5OPgUjyxtjJEk+FLUi78YORT4U+2h/6ahBPmnJWECLqD0+zOZxc5zvOD5XaLN11/00Pi0M9mBVsTE+JP8QoUfcLT7T0gvDYTopPg9npEbVViU+y6JoORASIj64Gwrrz6MePoJw9CxKARo+ul04g3cYFj7fUjn1T8sSPpD+UqbOABA+EshSLSpICz6naNz8akcHPsD6fEc64gM+ojpSwTEAAT4oeQOLvBn9PRCrBzMu7vg9989qXuRg9T3amk6LoFnyPbDuydvyh+89pwfhDHYd6z2t6pYbw1bnPQSjmCxVG+Q93IenInFW4T0=\",\"dtype\":\"float64\",\"order\":\"little\",\"shape\":[100]}},\"selected\":{\"id\":\"1107\"},\"selection_policy\":{\"id\":\"1108\"}},\"id\":\"1094\",\"type\":\"ColumnDataSource\"},{\"attributes\":{\"data\":{\"x\":[],\"y\":[]},\"selected\":{\"id\":\"1255\"},\"selection_policy\":{\"id\":\"1256\"}},\"id\":\"1240\",\"type\":\"ColumnDataSource\"},{\"attributes\":{\"bottom\":{\"value\":0},\"fill_alpha\":{\"value\":0.1},\"fill_color\":{\"value\":\"navy\"},\"left\":{\"field\":\"left\"},\"line_alpha\":{\"value\":0.1},\"line_color\":{\"value\":\"white\"},\"right\":{\"field\":\"right\"},\"top\":{\"field\":\"top\"}},\"id\":\"1027\",\"type\":\"Quad\"},{\"attributes\":{},\"id\":\"1078\",\"type\":\"BasicTicker\"},{\"attributes\":{\"line_alpha\":0.1,\"line_dash\":[2,4,6,4],\"line_width\":3,\"x\":{\"field\":\"x\"},\"y\":{\"field\":\"y\"}},\"id\":\"1242\",\"type\":\"Line\"},{\"attributes\":{\"bottom\":{\"value\":0},\"fill_alpha\":{\"value\":0.5},\"fill_color\":{\"value\":\"navy\"},\"left\":{\"field\":\"left\"},\"line_alpha\":{\"value\":0.5},\"line_color\":{\"value\":\"white\"},\"right\":{\"field\":\"right\"},\"top\":{\"field\":\"top\"}},\"id\":\"1090\",\"type\":\"Quad\"},{\"attributes\":{\"source\":{\"id\":\"1089\"}},\"id\":\"1093\",\"type\":\"CDSView\"},{\"attributes\":{},\"id\":\"1082\",\"type\":\"BasicTicker\"},{\"attributes\":{\"data\":{\"x\":[],\"y\":[]},\"selected\":{\"id\":\"1063\"},\"selection_policy\":{\"id\":\"1064\"}},\"id\":\"1048\",\"type\":\"ColumnDataSource\"},{\"attributes\":{},\"id\":\"1106\",\"type\":\"UnionRenderers\"},{\"attributes\":{\"formatter\":{\"id\":\"1100\"},\"ticker\":{\"id\":\"1078\"}},\"id\":\"1077\",\"type\":\"LinearAxis\"},{\"attributes\":{\"bottom_units\":\"screen\",\"fill_alpha\":0.5,\"fill_color\":\"lightgrey\",\"left_units\":\"screen\",\"level\":\"overlay\",\"line_alpha\":1.0,\"line_color\":\"black\",\"line_dash\":[4,4],\"line_width\":2,\"right_units\":\"screen\",\"top_units\":\"screen\"},\"id\":\"1214\",\"type\":\"BoxAnnotation\"},{\"attributes\":{},\"id\":\"1228\",\"type\":\"BasicTickFormatter\"},{\"attributes\":{\"background_fill_color\":\"#fafafa\",\"below\":[{\"id\":\"1077\"}],\"center\":[{\"id\":\"1080\"},{\"id\":\"1084\"},{\"id\":\"1109\"}],\"left\":[{\"id\":\"1081\"}],\"renderers\":[{\"id\":\"1092\"},{\"id\":\"1097\"},{\"id\":\"1115\"},{\"id\":\"1111\"}],\"title\":{\"id\":\"1067\"},\"toolbar\":{\"id\":\"1087\"},\"toolbar_location\":null,\"x_range\":{\"id\":\"1069\"},\"x_scale\":{\"id\":\"1073\"},\"y_range\":{\"id\":\"1071\"},\"y_scale\":{\"id\":\"1075\"}},\"id\":\"1066\",\"subtype\":\"Figure\",\"type\":\"Plot\"},{\"attributes\":{},\"id\":\"1233\",\"type\":\"Selection\"},{\"attributes\":{\"active_drag\":\"auto\",\"active_inspect\":\"auto\",\"active_multi\":null,\"active_scroll\":\"auto\",\"active_tap\":\"auto\",\"tools\":[{\"id\":\"1021\"}]},\"id\":\"1023\",\"type\":\"Toolbar\"},{\"attributes\":{\"items\":[{\"id\":\"1238\"},{\"id\":\"1257\"}]},\"id\":\"1237\",\"type\":\"Legend\"},{\"attributes\":{},\"id\":\"1105\",\"type\":\"Selection\"},{\"attributes\":{\"background_fill_color\":\"#fafafa\",\"below\":[{\"id\":\"1141\"}],\"center\":[{\"id\":\"1144\"},{\"id\":\"1148\"},{\"id\":\"1173\"}],\"left\":[{\"id\":\"1145\"}],\"renderers\":[{\"id\":\"1156\"},{\"id\":\"1161\"},{\"id\":\"1179\"},{\"id\":\"1175\"}],\"title\":{\"id\":\"1131\"},\"toolbar\":{\"id\":\"1151\"},\"toolbar_location\":null,\"x_range\":{\"id\":\"1133\"},\"x_scale\":{\"id\":\"1137\"},\"y_range\":{\"id\":\"1135\"},\"y_scale\":{\"id\":\"1139\"}},\"id\":\"1130\",\"subtype\":\"Figure\",\"type\":\"Plot\"},{\"attributes\":{},\"id\":\"1075\",\"type\":\"LinearScale\"},{\"attributes\":{\"line_alpha\":0.7,\"line_dash\":[2,4,6,4],\"line_width\":3,\"x\":{\"field\":\"x\"},\"y\":{\"field\":\"y\"}},\"id\":\"1049\",\"type\":\"Line\"},{\"attributes\":{\"line_alpha\":0.1,\"line_color\":\"#ff8888\",\"line_width\":4,\"x\":{\"field\":\"x\"},\"y\":{\"field\":\"y\"}},\"id\":\"1224\",\"type\":\"Line\"},{\"attributes\":{\"overlay\":{\"id\":\"1022\"}},\"id\":\"1021\",\"type\":\"BoxZoomTool\"},{\"attributes\":{},\"id\":\"1100\",\"type\":\"BasicTickFormatter\"},{\"attributes\":{\"data_source\":{\"id\":\"1025\"},\"glyph\":{\"id\":\"1026\"},\"hover_glyph\":null,\"muted_glyph\":null,\"nonselection_glyph\":{\"id\":\"1027\"},\"selection_glyph\":null,\"view\":{\"id\":\"1029\"}},\"id\":\"1028\",\"type\":\"GlyphRenderer\"},{\"attributes\":{\"items\":[{\"id\":\"1110\"},{\"id\":\"1129\"}]},\"id\":\"1109\",\"type\":\"Legend\"},{\"attributes\":{\"source\":{\"id\":\"1222\"}},\"id\":\"1226\",\"type\":\"CDSView\"},{\"attributes\":{},\"id\":\"1235\",\"type\":\"Selection\"},{\"attributes\":{\"label\":{\"value\":\"PDF\"},\"renderers\":[{\"id\":\"1033\"}]},\"id\":\"1046\",\"type\":\"LegendItem\"},{\"attributes\":{\"data_source\":{\"id\":\"1222\"},\"glyph\":{\"id\":\"1223\"},\"hover_glyph\":null,\"muted_glyph\":null,\"nonselection_glyph\":{\"id\":\"1224\"},\"selection_glyph\":null,\"view\":{\"id\":\"1226\"}},\"id\":\"1225\",\"type\":\"GlyphRenderer\"},{\"attributes\":{\"background_fill_color\":\"#fafafa\",\"below\":[{\"id\":\"1013\"}],\"center\":[{\"id\":\"1016\"},{\"id\":\"1020\"},{\"id\":\"1045\"}],\"left\":[{\"id\":\"1017\"}],\"renderers\":[{\"id\":\"1028\"},{\"id\":\"1033\"},{\"id\":\"1051\"},{\"id\":\"1047\"}],\"title\":{\"id\":\"1003\"},\"toolbar\":{\"id\":\"1023\"},\"toolbar_location\":null,\"x_range\":{\"id\":\"1005\"},\"x_scale\":{\"id\":\"1009\"},\"y_range\":{\"id\":\"1007\"},\"y_scale\":{\"id\":\"1011\"}},\"id\":\"1002\",\"subtype\":\"Figure\",\"type\":\"Plot\"},{\"attributes\":{},\"id\":\"1108\",\"type\":\"UnionRenderers\"},{\"attributes\":{\"dimension\":\"height\",\"line_alpha\":0.7,\"line_dash\":[2,4,6,4],\"line_width\":3,\"location\":66.23875516681667},\"id\":\"1047\",\"type\":\"Span\"},{\"attributes\":{\"data\":{\"left\":{\"__ndarray__\":\"AAAAAAAALEDsUbgehWs1QNejcD0K1zxA4XoUrkchQkDXo3A9CtdFQM3MzMzMjElAwvUoXI9CTUBcj8L1KHxQQNejcD0KV1JAUrgehesxVEDNzMzMzAxWQEjhehSu51dAwvUoXI/CWUA9CtejcJ1bQLgehetReF1AMzMzMzNTX0DXo3A9CpdgQBSuR+F6hGFAUrgehetxYkCPwvUoXF9jQM3MzMzMTGRACtejcD06ZUBI4XoUridmQIXrUbgeFWdAwvUoXI8CaEAAAAAAAPBoQD0K16Nw3WlAexSuR+HKakC4HoXrUbhrQPYoXI/CpWxAMzMzMzOTbUBxPQrXo4BuQK5H4XoUbm9A9ihcj8ItcEAUrkfheqRwQDMzMzMzG3FAUrgeheuRcUBxPQrXowhyQI/C9Shcf3JArkfhehT2ckDNzMzMzGxzQOtRuB6F43NACtejcD1adEApXI/C9dB0QEjhehSuR3VAZmZmZma+dUCF61G4HjV2QKRwPQrXq3ZAwvUoXI8id0DhehSuR5l3QAAAAAAAEHhAH4XrUbiGeEA9CtejcP14QFyPwvUodHlAexSuR+HqeUCamZmZmWF6QLgehetR2HpA16NwPQpPe0D2KFyPwsV7QBSuR+F6PHxAMzMzMzOzfEBSuB6F6yl9QHE9CtejoH1Aj8L1KFwXfkCuR+F6FI5+QM3MzMzMBH9A61G4HoV7f0AK16NwPfJ/QBSuR+F6NIBApHA9CtdvgEAzMzMzM6uAQMP1KFyP5oBAUrgeheshgUDhehSuR12BQHE9CtejmIFAAAAAAADUgUCPwvUoXA+CQB+F61G4SoJArkfhehSGgkA9CtejcMGCQM3MzMzM/IJAXI/C9Sg4g0DrUbgehXODQHsUrkfhroNACtejcD3qg0CamZmZmSWEQClcj8L1YIRAuB6F61GchEBI4XoUrteEQNejcD0KE4VAZmZmZmZOhUD2KFyPwomFQIXrUbgexYVAFK5H4XoAhkCkcD0K1zuGQDMzMzMzd4ZAwvUoXI+yhkBSuB6F6+2GQOF6FK5HKYdAcT0K16Nkh0A=\",\"dtype\":\"float64\",\"order\":\"little\",\"shape\":[100]},\"right\":{\"__ndarray__\":\"7FG4HoVrNUDXo3A9Ctc8QOF6FK5HIUJA16NwPQrXRUDNzMzMzIxJQML1KFyPQk1AXI/C9Sh8UEDXo3A9CldSQFK4HoXrMVRAzczMzMwMVkBI4XoUrudXQML1KFyPwllAPQrXo3CdW0C4HoXrUXhdQDMzMzMzU19A16NwPQqXYEAUrkfheoRhQFK4HoXrcWJAj8L1KFxfY0DNzMzMzExkQArXo3A9OmVASOF6FK4nZkCF61G4HhVnQML1KFyPAmhAAAAAAADwaEA9CtejcN1pQHsUrkfhympAuB6F61G4a0D2KFyPwqVsQDMzMzMzk21AcT0K16OAbkCuR+F6FG5vQPYoXI/CLXBAFK5H4XqkcEAzMzMzMxtxQFK4HoXrkXFAcT0K16MIckCPwvUoXH9yQK5H4XoU9nJAzczMzMxsc0DrUbgeheNzQArXo3A9WnRAKVyPwvXQdEBI4XoUrkd1QGZmZmZmvnVAhetRuB41dkCkcD0K16t2QML1KFyPIndA4XoUrkeZd0AAAAAAABB4QB+F61G4hnhAPQrXo3D9eEBcj8L1KHR5QHsUrkfh6nlAmpmZmZlhekC4HoXrUdh6QNejcD0KT3tA9ihcj8LFe0AUrkfhejx8QDMzMzMzs3xAUrgehespfUBxPQrXo6B9QI/C9ShcF35ArkfhehSOfkDNzMzMzAR/QOtRuB6Fe39ACtejcD3yf0AUrkfhejSAQKRwPQrXb4BAMzMzMzOrgEDD9Shcj+aAQFK4HoXrIYFA4XoUrkddgUBxPQrXo5iBQAAAAAAA1IFAj8L1KFwPgkAfhetRuEqCQK5H4XoUhoJAPQrXo3DBgkDNzMzMzPyCQFyPwvUoOINA61G4HoVzg0B7FK5H4a6DQArXo3A96oNAmpmZmZklhEApXI/C9WCEQLgehetRnIRASOF6FK7XhEDXo3A9ChOFQGZmZmZmToVA9ihcj8KJhUCF61G4HsWFQBSuR+F6AIZApHA9Ctc7hkAzMzMzM3eGQML1KFyPsoZAUrgehevthkDhehSuRymHQHE9CtejZIdAAAAAAACgh0A=\",\"dtype\":\"float64\",\"order\":\"little\",\"shape\":[100]},\"top\":{\"__ndarray__\":\"ScDyzQKrZz80yI9cLD+WP4jrv/8OAKY/z9vUobf9nT/TE+PDggqSP1E5q9lZ8IA/1XCUPnRJcT8Vc3twZJRlPwv/tYWemFg/tlXuZ66OTz9rnpdhbA9JPzLiTTqZRjY/IOdAWyqQMj+qX9Sp0CE4PybiTTqZRhY/M9hn+HazDT8y4k06mUYWPyPYZ/h2sx0/MuJNOplGFj8j2Gf4drP9PkTYZ/h2s/0+AAAAAAAAAABE2Gf4drMNP0TYZ/h2sw0/AAAAAAAAAABE2Gf4drMNPyPYZ/h2s/0+AAAAAAAAAAAj2Gf4drP9PgAAAAAAAAAAI9hn+Haz/T4AAAAAAAAAACPYZ/h2s/0+AAAAAAAAAAAAAAAAAAAAAAAAAAAAAAAAAAAAAAAAAAAAAAAAAAAAAAAAAAAAAAAAAAAAAAAAAAAAAAAAAAAAACPYZ/h2s/0+AAAAAAAAAAAAAAAAAAAAAGPYZ/h2s/0+AAAAAAAAAAAAAAAAAAAAAAAAAAAAAAAAAAAAAAAAAAAAAAAAAAAAAAAAAAAAAAAAAAAAAAAAAAAAAAAAAAAAACPYZ/h2s/0+AAAAAAAAAAAAAAAAAAAAACPYZ/h2sw0/AAAAAAAAAAAAAAAAAAAAAAAAAAAAAAAAAAAAAAAAAAAAAAAAAAAAAAAAAAAAAAAAAAAAAAAAAAAAAAAAAAAAAAAAAAAAAAAAAAAAAAAAAAAAAAAAAAAAAAAAAAAAAAAAAAAAAAAAAAAAAAAAAAAAAAAAAAAAAAAAAAAAAAAAAAAAAAAAAAAAAAAAAAAAAAAAAAAAAAAAAAAAAAAAAAAAAAAAAAAAAAAAAAAAAAAAAAAAAAAAAAAAAAAAAAAAAAAAAAAAAAAAAAAAAAAAAAAAAAAAAAAAAAAAAAAAAAAAAAAAAAAAAAAAAAAAAAAAAAAAAAAAAAAAAAAAAAAAAAAAAAAAAAAAAAAAAAAAAAAAAAAAAAAAAAAAAAAAAAAAAAAAAAAAAAAAAAAAAAAAAAAAAAAAAAAAAAAAAAAAAAAAAAAAAAAAAAAAAAAAAAAAAAAAY9hn+Haz/T4=\",\"dtype\":\"float64\",\"order\":\"little\",\"shape\":[100]}},\"selected\":{\"id\":\"1041\"},\"selection_policy\":{\"id\":\"1042\"}},\"id\":\"1025\",\"type\":\"ColumnDataSource\"},{\"attributes\":{\"line_alpha\":0.1,\"line_color\":\"#ff8888\",\"line_width\":4,\"x\":{\"field\":\"x\"},\"y\":{\"field\":\"y\"}},\"id\":\"1096\",\"type\":\"Line\"},{\"attributes\":{},\"id\":\"1236\",\"type\":\"UnionRenderers\"},{\"attributes\":{\"bottom_units\":\"screen\",\"fill_alpha\":0.5,\"fill_color\":\"lightgrey\",\"left_units\":\"screen\",\"level\":\"overlay\",\"line_alpha\":1.0,\"line_color\":\"black\",\"line_dash\":[4,4],\"line_width\":2,\"right_units\":\"screen\",\"top_units\":\"screen\"},\"id\":\"1086\",\"type\":\"BoxAnnotation\"},{\"attributes\":{\"source\":{\"id\":\"1030\"}},\"id\":\"1034\",\"type\":\"CDSView\"},{\"attributes\":{\"data\":{\"x\":{\"__ndarray__\":\"AAAAAAAALEDU+pUCtX41QKj1KwVq/TxAPvjggw8+QkCo9SsFav1FQBLzdobEvElAfPDBBx98TUDzdobEvJ1QQKj1KwVqfVJAXXTRRRddVEAS83aGxDxWQMdxHMdxHFhAfPDBBx/8WUAxb2dIzNtbQObtDIl5u11Am2yyySabX0Co9SsFar1gQAK1fqVArWFAXXTRRRedYkC4MyTm7YxjQBLzdobEfGRAbLLJJptsZUDHcRzHcVxmQCIxb2dITGdAfPDBBx88aEDWrxSo9StpQDFvZ0jMG2pAjC666KILa0Dm7QyJeftrQECtXylQ62xAm2yyySbbbUD2KwVq/cpuQFDrVwrUum9AVVVVVVVVcEACtX6lQM1wQLAUqPUrRXFAXXTRRRe9cUAK1PqVAjVyQLgzJObtrHJAZZNNNtkkc0AS83aGxJxzQL9SoNavFHRAbLLJJpuMdEAaEvN2hgR1QMdxHMdxfHVAdNFFF130dUAiMW9nSGx2QM+QmLcz5HZAfPDBBx9cd0ApUOtXCtR3QNavFKj1S3hAhA8++ODDeEAxb2dIzDt5QN7OkJi3s3lAjC666KIrekA5juM4jqN6QObtDIl5G3tAk0022WSTe0BArV8pUAt8QO4MiXk7g3xAm2yyySb7fEBIzNsZEnN9QPYrBWr96n1Ao4suuuhifkBQ61cK1Np+QP1KgVq/Un9AqqqqqqrKf0AsBWr9SiGAQAK1fqVAXYBA2WSTTTaZgECwFKj1K9WAQIbEvJ0hEYFAXXTRRRdNgUA0JObtDImBQArU+pUCxYFA4YMPPvgAgkC4MyTm7TyCQI7jOI7jeIJAZZNNNtm0gkA7Q2LezvCCQBLzdobELINA6aKLLrpog0C/UqDWr6SDQJYCtX6l4INAbLLJJpschEBDYt7OkFiEQBoS83aGlIRA8MEHH3zQhEDHcRzHcQyFQJ4hMW9nSIVAdNFFF12EhUBLgVq/UsCFQCIxb2dI/IVA+OCDDz44hkDPkJi3M3SGQKVArV8psIZAfPDBBx/shkBToNavFCiHQClQ61cKZIdAAAAAAACgh0A=\",\"dtype\":\"float64\",\"order\":\"little\",\"shape\":[100]},\"y\":{\"__ndarray__\":\"Ctl/nxmhUz9Z1obfp0mMPw58RUv8hJ4/ncMA8+VUoD+M9LD8+rCYP8Z2pGb4544/1fQbFDpegT8msHjNgVZyPzC2V1B6rmI/ZW7L5BirUj8UlIPHEn5CP3lHf/WHSDI/xLOytrcfIj+IlccSMxESPxUPw578JQI/P1gdJbJk8j7sYf/gA9PiPjD+vvq3dtM+hNb7EmpWxD6DzqwpKXq1PsjXHqQM7KY+ujx2d9O4mD7Ts/XMnfCKPiREHyzRp30+/B6ueRx8cD5oNvFHPIFiPlgaX1D191Q+pZL7M4j6Rz7NuMgnYKo7PtDwMncUGTA+hsYGqkbkIj6tmgI461kWPgRkrNZbpwo+fjy+p6sDAD4Kp2+rIGPzPTz7wefoo+c9W5hhDFsH3T1pTkjmtfHRPedxQ4TPVMY9ZSAIezj4uz0EL0usCKCxPak2CzsMWaY9dhBo3s6AnD0pf6kL+0eSPSRJR1a5lIc9HBu2gw+Vfj3sQ0Y1me9zPfszYDgVIGo9LcmSnTM0YT3oyfC6xsRWPU2fDyfWRk491vG94j85RD0EgRV+qyM7PUDasUlRSjI9aQTIAWDCKD11AFO+GdQgPTKoSg1U+BY9VWwPlH16Dz3RV989WacFPV0iztSV5/08qTxjTRi69DxYnrryM9bsPJvGAg2rIeQ8RGsVY+w03Dw7x9bwAdTTPAks+2lW+Ms8oA2GUNPKwzzfvSID1Bm8PNi6po/qArQ8xAsgh8yWrDzLNsyqvHukPGI3p1Y8cJ08mpmeojE3lTyfM0plh6qOPBRMwgKZOYY8psTxQcImgDyOVEyYxIl3PEHKiJ1eMnE8GHq4JUgxaTwBhDlp8X9iPOJKyw7gPFs872+dub4ZVDwoiB39A71NPDWHSlfvDEY8ZFR62VZjQDxsCArCMmo4PNs7XvovOjI8vyTt4ZNGKzyflhr7vnMkPN0xoemNvB48SeEXuQQlFzxvdEfDuXYRPFarOH9yaAo8FOPZPaABBDyFZhz1YF/+O095a9d6Gfc70vS9dvuZ8Tur/QQa1d/qO9xz+GHRjeQ7+dz69kR/3zs=\",\"dtype\":\"float64\",\"order\":\"little\",\"shape\":[100]}},\"selected\":{\"id\":\"1043\"},\"selection_policy\":{\"id\":\"1044\"}},\"id\":\"1030\",\"type\":\"ColumnDataSource\"},{\"attributes\":{\"source\":{\"id\":\"1094\"}},\"id\":\"1098\",\"type\":\"CDSView\"},{\"attributes\":{\"label\":{\"value\":\"PDF\"},\"renderers\":[{\"id\":\"1225\"}]},\"id\":\"1238\",\"type\":\"LegendItem\"},{\"attributes\":{},\"id\":\"1043\",\"type\":\"Selection\"},{\"attributes\":{},\"id\":\"1009\",\"type\":\"LinearScale\"},{\"attributes\":{\"label\":{\"value\":\"PDF\"},\"renderers\":[{\"id\":\"1097\"}]},\"id\":\"1110\",\"type\":\"LegendItem\"},{\"attributes\":{\"axis\":{\"id\":\"1017\"},\"dimension\":1,\"ticker\":null},\"id\":\"1020\",\"type\":\"Grid\"},{\"attributes\":{\"data_source\":{\"id\":\"1094\"},\"glyph\":{\"id\":\"1095\"},\"hover_glyph\":null,\"muted_glyph\":null,\"nonselection_glyph\":{\"id\":\"1096\"},\"selection_glyph\":null,\"view\":{\"id\":\"1098\"}},\"id\":\"1097\",\"type\":\"GlyphRenderer\"},{\"attributes\":{},\"id\":\"1073\",\"type\":\"LinearScale\"},{\"attributes\":{\"line_alpha\":0.7,\"line_dash\":[2,4,6,4],\"line_width\":3,\"x\":{\"field\":\"x\"},\"y\":{\"field\":\"y\"}},\"id\":\"1241\",\"type\":\"Line\"},{\"attributes\":{\"dimension\":\"height\",\"line_alpha\":0.7,\"line_dash\":[2,4,6,4],\"line_width\":3,\"location\":64.94669640246644},\"id\":\"1111\",\"type\":\"Span\"},{\"attributes\":{\"dimension\":\"height\",\"line_alpha\":0.7,\"line_dash\":[2,4,6,4],\"line_width\":3,\"location\":0.6035921243882101},\"id\":\"1239\",\"type\":\"Span\"},{\"attributes\":{\"source\":{\"id\":\"1025\"}},\"id\":\"1029\",\"type\":\"CDSView\"},{\"attributes\":{},\"id\":\"1071\",\"type\":\"DataRange1d\"},{\"attributes\":{},\"id\":\"1230\",\"type\":\"BasicTickFormatter\"},{\"attributes\":{},\"id\":\"1044\",\"type\":\"UnionRenderers\"},{\"attributes\":{\"active_drag\":\"auto\",\"active_inspect\":\"auto\",\"active_multi\":null,\"active_scroll\":\"auto\",\"active_tap\":\"auto\",\"tools\":[{\"id\":\"1085\"}]},\"id\":\"1087\",\"type\":\"Toolbar\"},{\"attributes\":{\"toolbar\":{\"id\":\"1311\"},\"toolbar_location\":\"above\"},\"id\":\"1312\",\"type\":\"ToolbarBox\"},{\"attributes\":{\"background_fill_color\":\"#fafafa\",\"below\":[{\"id\":\"1205\"}],\"center\":[{\"id\":\"1208\"},{\"id\":\"1212\"},{\"id\":\"1237\"}],\"left\":[{\"id\":\"1209\"}],\"renderers\":[{\"id\":\"1220\"},{\"id\":\"1225\"},{\"id\":\"1243\"},{\"id\":\"1239\"}],\"title\":{\"id\":\"1195\"},\"toolbar\":{\"id\":\"1215\"},\"toolbar_location\":null,\"x_range\":{\"id\":\"1197\"},\"x_scale\":{\"id\":\"1201\"},\"y_range\":{\"id\":\"1199\"},\"y_scale\":{\"id\":\"1203\"}},\"id\":\"1194\",\"subtype\":\"Figure\",\"type\":\"Plot\"},{\"attributes\":{\"line_alpha\":0.7,\"line_dash\":[2,4,6,4],\"line_width\":3,\"x\":{\"field\":\"x\"},\"y\":{\"field\":\"y\"}},\"id\":\"1113\",\"type\":\"Line\"},{\"attributes\":{\"label\":{\"value\":\"ULN\"},\"renderers\":[{\"id\":\"1115\"}]},\"id\":\"1129\",\"type\":\"LegendItem\"},{\"attributes\":{\"toolbars\":[{\"id\":\"1023\"},{\"id\":\"1087\"},{\"id\":\"1151\"},{\"id\":\"1215\"}],\"tools\":[{\"id\":\"1021\"},{\"id\":\"1085\"},{\"id\":\"1149\"},{\"id\":\"1213\"}]},\"id\":\"1311\",\"type\":\"ProxyToolbar\"},{\"attributes\":{},\"id\":\"1102\",\"type\":\"BasicTickFormatter\"},{\"attributes\":{},\"id\":\"1042\",\"type\":\"UnionRenderers\"},{\"attributes\":{},\"id\":\"1069\",\"type\":\"DataRange1d\"},{\"attributes\":{\"line_alpha\":0.1,\"line_dash\":[2,4,6,4],\"line_width\":3,\"x\":{\"field\":\"x\"},\"y\":{\"field\":\"y\"}},\"id\":\"1114\",\"type\":\"Line\"},{\"attributes\":{},\"id\":\"1234\",\"type\":\"UnionRenderers\"},{\"attributes\":{},\"id\":\"1256\",\"type\":\"UnionRenderers\"},{\"attributes\":{\"overlay\":{\"id\":\"1086\"}},\"id\":\"1085\",\"type\":\"BoxZoomTool\"},{\"attributes\":{\"bottom_units\":\"screen\",\"fill_alpha\":0.5,\"fill_color\":\"lightgrey\",\"left_units\":\"screen\",\"level\":\"overlay\",\"line_alpha\":1.0,\"line_color\":\"black\",\"line_dash\":[4,4],\"line_width\":2,\"right_units\":\"screen\",\"top_units\":\"screen\"},\"id\":\"1022\",\"type\":\"BoxAnnotation\"},{\"attributes\":{\"text\":\"ALT - Female\"},\"id\":\"1067\",\"type\":\"Title\"},{\"attributes\":{},\"id\":\"1041\",\"type\":\"Selection\"},{\"attributes\":{\"active_drag\":\"auto\",\"active_inspect\":\"auto\",\"active_multi\":null,\"active_scroll\":\"auto\",\"active_tap\":\"auto\",\"tools\":[{\"id\":\"1213\"}]},\"id\":\"1215\",\"type\":\"Toolbar\"},{\"attributes\":{\"label\":{\"value\":\"ULN\"},\"renderers\":[{\"id\":\"1243\"}]},\"id\":\"1257\",\"type\":\"LegendItem\"},{\"attributes\":{},\"id\":\"1064\",\"type\":\"UnionRenderers\"},{\"attributes\":{\"text\":\"ALT - Male\"},\"id\":\"1003\",\"type\":\"Title\"},{\"attributes\":{\"axis\":{\"id\":\"1013\"},\"ticker\":null},\"id\":\"1016\",\"type\":\"Grid\"},{\"attributes\":{\"overlay\":{\"id\":\"1214\"}},\"id\":\"1213\",\"type\":\"BoxZoomTool\"},{\"attributes\":{},\"id\":\"1036\",\"type\":\"BasicTickFormatter\"},{\"attributes\":{\"data\":{\"x\":[],\"y\":[]},\"selected\":{\"id\":\"1127\"},\"selection_policy\":{\"id\":\"1128\"}},\"id\":\"1112\",\"type\":\"ColumnDataSource\"},{\"attributes\":{\"bottom\":{\"value\":0},\"fill_alpha\":{\"value\":0.1},\"fill_color\":{\"value\":\"navy\"},\"left\":{\"field\":\"left\"},\"line_alpha\":{\"value\":0.1},\"line_color\":{\"value\":\"white\"},\"right\":{\"field\":\"right\"},\"top\":{\"field\":\"top\"}},\"id\":\"1219\",\"type\":\"Quad\"},{\"attributes\":{},\"id\":\"1255\",\"type\":\"Selection\"},{\"attributes\":{\"label\":{\"value\":\"ULN\"},\"renderers\":[{\"id\":\"1051\"}]},\"id\":\"1065\",\"type\":\"LegendItem\"},{\"attributes\":{\"items\":[{\"id\":\"1046\"},{\"id\":\"1065\"}]},\"id\":\"1045\",\"type\":\"Legend\"},{\"attributes\":{\"data_source\":{\"id\":\"1217\"},\"glyph\":{\"id\":\"1218\"},\"hover_glyph\":null,\"muted_glyph\":null,\"nonselection_glyph\":{\"id\":\"1219\"},\"selection_glyph\":null,\"view\":{\"id\":\"1221\"}},\"id\":\"1220\",\"type\":\"GlyphRenderer\"},{\"attributes\":{},\"id\":\"1018\",\"type\":\"BasicTicker\"},{\"attributes\":{},\"id\":\"1063\",\"type\":\"Selection\"},{\"attributes\":{},\"id\":\"1038\",\"type\":\"BasicTickFormatter\"},{\"attributes\":{\"data\":{\"x\":{\"__ndarray__\":\"/Knx0k1iUD+mmBtGdR2APw782NGgLo4/ui/LLuYflj9u4an0eyidP5FJRN2IGKI/aqIzwNOcpT9E+yKjHiGpPx5UEoZppaw/fNaANNoUsD/pgvil/9axP1YvcBclmbM/wtvniEpbtT8viF/6bx23P5w012uV37g/CeFO3bqhuj92jcZO4GO8P+M5PsAFJr4/UOa1MSvovz9eyZZRKNXAP5WfUgo7tsE/y3UOw02Xwj8CTMp7YHjDPzgihjRzWcQ/bvhB7YU6xT+lzv2lmBvGP9ukuV6r/MY/Ent1F77dxz9IUTHQ0L7IP38n7Yjjn8k/tf2oQfaAyj/s02T6CGLLPyKqILMbQ8w/WIDcay4kzT+PVpgkQQXOP8UsVN1T5s4//AIQlmbHzz+Z7GWnPFTQP7TXwwPGxNA/0MIhYE810T/rrX+82KXRPwaZ3RhiFtI/IYQ7deuG0j88b5nRdPfSP1ha9y3+Z9M/c0VViofY0z+OMLPmEEnUP6kbEUOaudQ/xAZvnyMq1T/g8cz7rJrVP/vcKlg2C9Y/FsiItL971j8xs+YQSezWP02eRG3SXNc/aImiyVvN1z+DdAAm5T3YP55fXoJurtg/uUq83vce2T/VNRo7gY/ZP/AgeJcKANo/CwzW85Nw2j8m9zNQHeHaP0LikaymUds/Xc3vCDDC2z94uE1luTLcP5Ojq8FCo9w/ro4JHswT3T/KeWd6VYTdP+Vkxdbe9N0/AFAjM2hl3j8bO4GP8dXePzcm3+t6Rt8/UhE9SAS33z82fk3SxhPgP8RzfIALTOA/UmmrLlCE4D/fXtrclLzgP21UCYvZ9OA/+0k4OR4t4T+IP2fnYmXhPxY1lpWnneE/oyrFQ+zV4T8xIPTxMA7iP78VI6B1RuI/TAtSTrp+4j/aAIH8/rbiP2f2r6pD7+I/9eveWIgn4z+D4Q0HzV/jPxDXPLURmOM/nsxrY1bQ4z8rwpoRmwjkP7m3yb/fQOQ/R634bSR55D/UoiccabHkP2KYVsqt6eQ/742FePIh5T99g7QmN1rlPwt549R7kuU/mG4Sg8DK5T8=\",\"dtype\":\"float64\",\"order\":\"little\",\"shape\":[100]},\"y\":{\"__ndarray__\":\"1U+2iDrf4z/g5ZE2aLYcQF+T8VHgYyFAvIcWQCo5IUADjz70jR0gQFGjQwybjB1A6hyjpvrjGkBtM31HT2wYQMDiWYGxMRZAASUAtSQ0FEC+CYonIm8SQG6mAGe83BBAElquvN7tDkCu8TF7THAMQFKfqzTQNgpAGXD3z7o4CEAbi1dDim4GQEPT+1LI0QRAECHkR+dcA0C1uUS+IAsCQKM6wRZY2ABAPm5zwwGC/z9Jk/YlEoT9P85K6yyNsfs//b9Qoc8F+j8QuVMzzXz4P/U0eJr6Evc/hJ8/MDvF9T8TSppw0ZD0Pwm2yONRc/M/dCFmCphq8j+UCir2vHTxP7H7y0gPkPA/MK9+vRh27z/FiDPrtOjtPzeYh0yHdew/qAHEI2Ma6z8EDfVLU9XpP3uX4cGTpOg/l2JtB4yG5z+M5FtBynnmP6BHi/T+fOU/mRD/S/mO5D8So5jUo67jP0b5Sp4B2+I/6XwJtSsT4j9qB77lTlbhPwyVScWpo+A/FocJ4hX13z9Se9kCn7TeP8j+YFHDhN0/HuNi725k3D94qo+Jo1LbP1+QeWB2Tto/Sq/qhQ5X2T82tX9Io2vYP9+FM8h6i9c/86g1r+i11j8nyPoKTerVP4hp90ETKNU/XonkIrFu1D+FSc4Kpr3TPyrAgB96FNM/rdkvnL1y0j9DyXYuCNjRPyH5AmL4Q9E//epuGTO20D8u9PsSYy7QPykS/u9wWM8/kRvr69Bezj849KfAWW/NPxoac7SHicw/gYCVDt+syz9ZEBCG69jKP1cIELw/Dco/FrYXwXRJyT8dt+SjKY3IPw+VNQkD2Mc/1IKmy6opxz8HkvCiz4HGP+Ew6NEk4MU/bl+n2mFExT+XBV44Qq7EP41aTx6FHcQ/H4uOO+2Rwz/35BaDQAvDPwrg5PdHicI/74q9fM8Lwj+KPFmnpZLBPwkQrZabHcE/T7EUzISswD8gaiMHNz/AP2OR0EcUq78/MFPr9q/evj+N6gCN+Bi+P5US3gOpWb0/tC1mqn+gvD9fiJn0Pe27P5A6sE6oP7s/IsAQ84WXuj8=\",\"dtype\":\"float64\",\"order\":\"little\",\"shape\":[100]}},\"selected\":{\"id\":\"1235\"},\"selection_policy\":{\"id\":\"1236\"}},\"id\":\"1222\",\"type\":\"ColumnDataSource\"},{\"attributes\":{\"line_alpha\":0.1,\"line_dash\":[2,4,6,4],\"line_width\":3,\"x\":{\"field\":\"x\"},\"y\":{\"field\":\"y\"}},\"id\":\"1050\",\"type\":\"Line\"},{\"attributes\":{\"source\":{\"id\":\"1217\"}},\"id\":\"1221\",\"type\":\"CDSView\"},{\"attributes\":{\"data\":{\"left\":{\"__ndarray__\":\"AAAAAAAAKED2KFyPwvUuQPYoXI/C9TJAcD0K16NwNkDsUbgehes5QGZmZmZmZj1AcD0K16NwQECuR+F6FC5CQOxRuB6F60NAKVyPwvWoRUBmZmZmZmZHQKRwPQrXI0lA4XoUrkfhSkAfhetRuJ5MQFyPwvUoXE5AzczMzMwMUEDsUbgehetQQArXo3A9ylFAKVyPwvWoUkBI4XoUrodTQGZmZmZmZlRAhetRuB5FVUCkcD0K1yNWQMP1KFyPAldA4XoUrkfhV0AAAAAAAMBYQB+F61G4nllAPQrXo3B9WkBcj8L1KFxbQHsUrkfhOlxAmpmZmZkZXUC4HoXrUfhdQNejcD0K115A9ihcj8K1X0AK16NwPUpgQJqZmZmZuWBAKVyPwvUoYUC4HoXrUZhhQEjhehSuB2JA16NwPQp3YkBmZmZmZuZiQPYoXI/CVWNAhetRuB7FY0AUrkfhejRkQKRwPQrXo2RAMzMzMzMTZUDD9Shcj4JlQFK4HoXr8WVA4XoUrkdhZkBxPQrXo9BmQAAAAAAAQGdAj8L1KFyvZ0AfhetRuB5oQK5H4XoUjmhAPQrXo3D9aEDNzMzMzGxpQFyPwvUo3GlA61G4HoVLakB7FK5H4bpqQArXo3A9KmtAmpmZmZmZa0ApXI/C9QhsQLgehetReGxASOF6FK7nbEDXo3A9CldtQGZmZmZmxm1A9ihcj8I1bkCF61G4HqVuQBSuR+F6FG9ApHA9CteDb0AzMzMzM/NvQOJ6FK5HMXBAKVyPwvVocEBwPQrXo6BwQLgehetR2HBAAAAAAAAQcUBI4XoUrkdxQI/C9Shcf3FA16NwPQq3cUAfhetRuO5xQGZmZmZmJnJArkfhehReckD2KFyPwpVyQD0K16NwzXJAhetRuB4Fc0DNzMzMzDxzQBSuR+F6dHNAXI/C9Sisc0CkcD0K1+NzQOtRuB6FG3RAMzMzMzNTdEB7FK5H4Yp0QMP1KFyPwnRACtejcD36dEBSuB6F6zF1QJqZmZmZaXVA4XoUrkehdUApXI/C9dh1QHE9CtejEHZAuB6F61FIdkA=\",\"dtype\":\"float64\",\"order\":\"little\",\"shape\":[100]},\"right\":{\"__ndarray__\":\"9ihcj8L1LkD2KFyPwvUyQHA9CtejcDZA7FG4HoXrOUBmZmZmZmY9QHA9CtejcEBArkfhehQuQkDsUbgehetDQClcj8L1qEVAZmZmZmZmR0CkcD0K1yNJQOF6FK5H4UpAH4XrUbieTEBcj8L1KFxOQM3MzMzMDFBA7FG4HoXrUEAK16NwPcpRQClcj8L1qFJASOF6FK6HU0BmZmZmZmZUQIXrUbgeRVVApHA9CtcjVkDD9ShcjwJXQOF6FK5H4VdAAAAAAADAWEAfhetRuJ5ZQD0K16NwfVpAXI/C9ShcW0B7FK5H4TpcQJqZmZmZGV1AuB6F61H4XUDXo3A9CtdeQPYoXI/CtV9ACtejcD1KYECamZmZmblgQClcj8L1KGFAuB6F61GYYUBI4XoUrgdiQNejcD0Kd2JAZmZmZmbmYkD2KFyPwlVjQIXrUbgexWNAFK5H4Xo0ZECkcD0K16NkQDMzMzMzE2VAw/UoXI+CZUBSuB6F6/FlQOF6FK5HYWZAcT0K16PQZkAAAAAAAEBnQI/C9Shcr2dAH4XrUbgeaECuR+F6FI5oQD0K16Nw/WhAzczMzMxsaUBcj8L1KNxpQOtRuB6FS2pAexSuR+G6akAK16NwPSprQJqZmZmZmWtAKVyPwvUIbEC4HoXrUXhsQEjhehSu52xA16NwPQpXbUBmZmZmZsZtQPYoXI/CNW5AhetRuB6lbkAUrkfhehRvQKRwPQrXg29AMzMzMzPzb0DiehSuRzFwQClcj8L1aHBAcD0K16OgcEC4HoXrUdhwQAAAAAAAEHFASOF6FK5HcUCPwvUoXH9xQNejcD0Kt3FAH4XrUbjucUBmZmZmZiZyQK5H4XoUXnJA9ihcj8KVckA9CtejcM1yQIXrUbgeBXNAzczMzMw8c0AUrkfhenRzQFyPwvUorHNApHA9Ctfjc0DrUbgehRt0QDMzMzMzU3RAexSuR+GKdEDD9Shcj8J0QArXo3A9+nRAUrgehesxdUCamZmZmWl1QOF6FK5HoXVAKVyPwvXYdUBxPQrXoxB2QLgehetRSHZAAAAAAACAdkA=\",\"dtype\":\"float64\",\"order\":\"little\",\"shape\":[100]},\"top\":{\"__ndarray__\":\"WhLvdVuLWz94a7UpGTeBPxtooiXPy54/W20iNRkxoz/ZLOR3nQapPwK1h5jnYqA/yBwpIPj9oD+Nobk8+O6VP35D/2LfjZI/Bj1lRDpnhD90G0mcpeSDPyDD1eSMcXY/71lU2Sm9eD/b8NLNxghrPx8GDjW2dmc/smpiLXT+aD9wldj7UtphP2qYXxaulV0/HwYONbZ2Vz9ISUaF33tIPx8GDjW2dlc/LElGhd97SD/6PGVEOmdEP39VJ8aEkDw/yDCEA5VSQD8Tw9XkjHFGP9swhAOVUjA/+jxlRDpnRD/IMIQDlVIwP8gwhAOVUjA/2zCEA5VSED8sSUaF33soPyxJRoXfeyg/2zCEA5VSID8AAAAAAAAAANswhAOVUjA/2zCEA5VSID+1MIQDlVIQP9swhAOVUiA/2zCEA5VSMD+1MIQDlVIQP0hJRoXfeyg/2zCEA5VSID8QSUaF33soPwAAAAAAAAAAtTCEA5VSED/bMIQDlVIQP9swhAOVUhA/tTCEA5VSED8AAAAAAAAAANswhAOVUhA/tTCEA5VSED/bMIQDlVIgP9swhAOVUhA/AAAAAAAAAAAAAAAAAAAAANswhAOVUhA/AAAAAAAAAADbMIQDlVIQP7UwhAOVUiA/2zCEA5VSED9ISUaF33soP7UwhAOVUhA/AAAAAAAAAAAAAAAAAAAAAAAAAAAAAAAA2zCEA5VSED/bMIQDlVIQP7UwhAOVUiA/2zCEA5VSED8AAAAAAAAAAAAAAAAAAAAAAAAAAAAAAAC1MIQDlVIQPwAAAAAAAAAAAAAAAAAAAAAAAAAAAAAAAAAAAAAAAAAAAAAAAAAAAAAAMYQDlVIQPwAAAAAAAAAAtTCEA5VSED8AAAAAAAAAAAAAAAAAAAAAAAAAAAAAAAAAAAAAAAAAALUwhAOVUhA/AAAAAAAAAAAAAAAAAAAAAAAAAAAAAAAAtTCEA5VSED8AAAAAAAAAAAAAAAAAAAAAAAAAAAAAAAAAAAAAAAAAAAAAAAAAAAAAAAAAAAAAAAAAAAAAAAAAAAAAAAAAAAAAtTCEA5VSED8=\",\"dtype\":\"float64\",\"order\":\"little\",\"shape\":[100]}},\"selected\":{\"id\":\"1105\"},\"selection_policy\":{\"id\":\"1106\"}},\"id\":\"1089\",\"type\":\"ColumnDataSource\"}],\"root_ids\":[\"1313\"]},\"title\":\"Bokeh Application\",\"version\":\"2.2.1\"}};\n",
       "  var render_items = [{\"docid\":\"cdece579-5dc9-4efe-a5c9-5e8149fe99ce\",\"root_ids\":[\"1313\"],\"roots\":{\"1313\":\"2c44fb87-7951-4b5c-81b1-445e7d7b1a0c\"}}];\n",
       "  root.Bokeh.embed.embed_items_notebook(docs_json, render_items);\n",
       "\n",
       "  }\n",
       "  if (root.Bokeh !== undefined) {\n",
       "    embed_document(root);\n",
       "  } else {\n",
       "    var attempts = 0;\n",
       "    var timer = setInterval(function(root) {\n",
       "      if (root.Bokeh !== undefined) {\n",
       "        clearInterval(timer);\n",
       "        embed_document(root);\n",
       "      } else {\n",
       "        attempts++;\n",
       "        if (attempts > 100) {\n",
       "          clearInterval(timer);\n",
       "          console.log(\"Bokeh: ERROR: Unable to run BokehJS code because BokehJS library is missing\");\n",
       "        }\n",
       "      }\n",
       "    }, 10, root)\n",
       "  }\n",
       "})(window);"
      ],
      "application/vnd.bokehjs_exec.v0+json": ""
     },
     "metadata": {
      "application/vnd.bokehjs_exec.v0+json": {
       "id": "1313"
      }
     },
     "output_type": "display_data"
    }
   ],
   "source": [
    "ULNs = {}\n",
    "\n",
    "alt_data_M = control_animals_data.loc[control_animals_data.SEX == 'M', 'ALT']\n",
    "alt_data_F = control_animals_data.loc[control_animals_data.SEX == 'F', 'ALT']\n",
    "bili_data_M = control_animals_data.loc[control_animals_data.SEX == 'M', 'BILI']+0.001\n",
    "bili_data_F = control_animals_data.loc[control_animals_data.SEX == 'F', 'BILI']+0.001\n",
    "\n",
    "\n",
    "alt_m_f, ULNs['ALT - M'] = make_histogram(alt_data_M, 'ALT - Male')\n",
    "alt_f_f, ULNs['ALT - F'] = make_histogram(alt_data_F, 'ALT - Female')\n",
    "bili_m_f, ULNs['BILI - M'] = make_histogram(bili_data_M, 'BILI - Male', n_bins=50)\n",
    "bili_f_f, ULNs['BILI - F'] = make_histogram(bili_data_F, 'BILI - Female', n_bins=50)\n",
    "\n",
    "show(gridplot([[alt_m_f, alt_f_f],\n",
    "               [bili_m_f, bili_f_f]]))"
   ]
  },
  {
   "cell_type": "markdown",
   "metadata": {},
   "source": [
    "### Controls\n",
    "\n",
    "Add a label if they're control or not"
   ]
  },
  {
   "cell_type": "code",
   "execution_count": 32,
   "metadata": {},
   "outputs": [
    {
     "data": {
      "image/png": "[encoded data removed]",
      "text/plain": [
       "<Figure size 432x288 with 1 Axes>"
      ]
     },
     "metadata": {
      "needs_background": "light"
     },
     "output_type": "display_data"
    }
   ],
   "source": [
    "animal_data.loc[:, 'IS_CONTROL'] = animal_data.USUBJID.isin(control_animals.USUBJID)\n",
    "\n",
    "\n",
    "interactivity = False\n",
    "\n",
    "import matplotlib.pyplot as plt\n",
    "from sklearn.linear_model import LogisticRegression\n",
    "   \n",
    "from sklearn.metrics import roc_curve\n",
    "\n",
    "\n",
    "males = animal_data[animal_data.SEX == 'M']\n",
    "females = animal_data[animal_data.SEX == 'F']\n",
    "\n",
    "\n",
    "X_m = males[['ALT', 'BILI']]\n",
    "X_f = females[['ALT', 'BILI']]\n",
    "\n",
    "if interactivity == True:\n",
    "    X_m['ALT*BILI'] = males['ALT'] * males['BILI']\n",
    "    X_f['ALT*BILI'] = females['ALT'] * females['BILI']\n",
    "\n",
    "y_m = males['NECROSIS']\n",
    "y_f = females['NECROSIS']\n",
    "\n",
    "lr_male = LogisticRegression(max_iter=1000)\n",
    "lr_female = LogisticRegression(max_iter=1000)\n",
    "\n",
    "lr_male.fit(X_m, y_m)\n",
    "lr_female.fit(X_f, y_f)\n",
    "\n",
    "y_pred_m = lr_male.predict_proba(X_m)[:, 1]\n",
    "fpr_m, tpr_m, _ = roc_curve(y_m, y_pred_m)\n",
    "\n",
    "y_pred_f = lr_female.predict_proba(X_f)[:, 1]\n",
    "fpr_f, tpr_f, _ = roc_curve(y_f, y_pred_f)\n",
    "\n",
    "plt.figure(1)\n",
    "plt.plot([0, 1], [0, 1], 'k--')\n",
    "plt.plot(fpr_m, tpr_m, label='M')\n",
    "plt.plot(fpr_f, tpr_f, label='F')\n",
    "plt.xlabel('False positive rate')\n",
    "plt.ylabel('True positive rate')\n",
    "plt.title('ROC curve')\n",
    "plt.legend(loc='best')\n",
    "plt.show()\n"
   ]
  },
  {
   "cell_type": "code",
   "execution_count": 43,
   "metadata": {},
   "outputs": [
    {
     "data": {
      "image/png": "[encoded data removed]",
      "text/plain": [
       "<Figure size 432x288 with 1 Axes>"
      ]
     },
     "metadata": {
      "needs_background": "light"
     },
     "output_type": "display_data"
    }
   ],
   "source": [
    "theta_m = np.concatenate([lr_male.intercept_, lr_male.coef_[0]])\n",
    "x_m = np.linspace(X_m.min().min(), X_m.max().max(), 50)\n",
    "y_m = -(theta_m[0] + theta_m[1]*x)/theta_m[2]\n",
    "\n",
    "fig, ax = plt.subplots()\n",
    "\n",
    "ax.plot(x_m, y_m)\n",
    "\n",
    "ax.scatter(X_m.ALT, X_m.BILI)\n",
    "\n",
    "plt.show()\n"
   ]
  },
  {
   "cell_type": "code",
   "execution_count": 37,
   "metadata": {},
   "outputs": [
    {
     "data": {
      "text/plain": [
       "array([[0.0058606 , 0.47472575]])"
      ]
     },
     "execution_count": 37,
     "metadata": {},
     "output_type": "execute_result"
    }
   ],
   "source": [
    "lr_male.coef_"
   ]
  },
  {
   "cell_type": "code",
   "execution_count": 46,
   "metadata": {},
   "outputs": [
    {
     "data": {
      "text/plain": [
       "33"
      ]
     },
     "execution_count": 46,
     "metadata": {},
     "output_type": "execute_result"
    }
   ],
   "source": [
    "(y_pred_f > 0.5).sum()"
   ]
  },
  {
   "cell_type": "code",
   "execution_count": null,
   "metadata": {},
   "outputs": [],
   "source": []
  }
 ],
 "metadata": {
  "kernelspec": {
   "display_name": "Python [conda env:cheminformatics]",
   "language": "python",
   "name": "conda-env-cheminformatics-py"
  },
  "language_info": {
   "codemirror_mode": {
    "name": "ipython",
    "version": 3
   },
   "file_extension": ".py",
   "mimetype": "text/x-python",
   "name": "python",
   "nbconvert_exporter": "python",
   "pygments_lexer": "ipython3",
   "version": "3.7.8"
  }
 },
 "nbformat": 4,
 "nbformat_minor": 4
}
